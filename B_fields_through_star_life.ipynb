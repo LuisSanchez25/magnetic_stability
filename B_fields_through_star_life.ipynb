{
 "cells": [
  {
   "cell_type": "code",
   "execution_count": 682,
   "metadata": {},
   "outputs": [],
   "source": [
    "import mesa_reader as mr\n",
    "import numpy as np\n",
    "import pandas as pd\n",
    "import math as m\n",
    "import matplotlib.pyplot as plt\n",
    "from fractions import Fraction \n",
    "\n",
    "h = mr.MesaData('LOGS/history.data')\n",
    "B_ave = h.data('B_ave')\n",
    "b_max = h.data('B_max')\n",
    "age = h.data('star_age')\n",
    "center_h = h.data('center_h1')\n",
    "center_he = h.data('center_he4')\n",
    "center_c = h.data('center_c12')\n",
    "center_o = h.data('center_o16')\n",
    "c_core_m_he = h.data('he_core_mass')\n",
    "c_core_m_c = h.data('c_core_mass')\n",
    "c_core_m_o = h.data('o_core_mass')\n",
    "c_core_m_si = h.data('si_core_mass')\n",
    "log_t = h.data('log_dt')\n",
    "mass_conv_core = h.data('mass_conv_core')\n",
    "\n",
    "p_h06 = mr.MesaData('LOGS/profile3.data')\n",
    "p_h03 = mr.MesaData('LOGS/profile7.data')\n",
    "p_h001 = mr.MesaData('LOGS/profile11.data')\n",
    "p_he1 = mr.MesaData('LOGS/profile12.data')\n",
    "p_he05 = mr.MesaData('LOGS/profile32.data')\n",
    "p_he001 = mr.MesaData('LOGS/profile36.data')\n",
    "p_c05 = mr.MesaData('LOGS/profile33.data')\n",
    "p_c03 = mr.MesaData('LOGS/profile37.data')\n",
    "\n",
    "conv_vel_h06 = p_h06.data('conv_vel') \n",
    "conv_vel_h03 = p_h03.data('conv_vel')\n",
    "conv_vel_h001 = p_h001.data('conv_vel')\n",
    "conv_vel_he1 = p_he1.data('conv_vel')\n",
    "conv_vel_he05 = p_he05.data('conv_vel')\n",
    "conv_vel_he001 = p_he001.data('conv_vel')\n",
    "conv_vel_c05 = p_c05.data('conv_vel')\n",
    "conv_vel_c03 = p_c03.data('conv_vel')\n",
    "\n",
    "B_h06 = p_h06.data('B_equipartition')\n",
    "B_h03 = p_h03.data('B_equipartition')\n",
    "B_h001 = p_h001.data('B_equipartition')\n",
    "B_he1 = p_he1.data('B_equipartition')\n",
    "B_he05 = p_he05.data('B_equipartition')\n",
    "B_he001 = p_he001.data('B_equipartition')\n",
    "B_c05 = p_c05.data('B_equipartition')\n",
    "B_c03 = p_c03.data('B_equipartition')\n",
    "\n",
    "mass_h06 = p_h06.data('mass')\n",
    "mass_h03 = p_h03.data('mass')\n",
    "mass_h001 = p_h001.data('mass')\n",
    "mass_he1 = p_he1.data('mass')\n",
    "mass_he05 = p_he05.data('mass')\n",
    "mass_he001 = p_he001.data('mass')\n",
    "\n",
    "radius_h06 = p_h06.data('radius')\n",
    "radius_h03 = p_h03.data('radius')\n",
    "radius_h001 = p_h001.data('radius')\n",
    "radius_he1 = p_he1.data('radius')\n",
    "radius_he05 = p_he05.data('radius')\n",
    "radius_he001 = p_he001.data('radius')\n",
    "radius_c05 = p_c05.data('radius')\n",
    "radius_c03 = p_c03.data('radius')\n",
    "\n",
    "hp_h06 = p_h06.data('pressure_scale_height') \n",
    "hp_h03 = p_h03.data('pressure_scale_height')\n",
    "hp_h001 = p_h001.data('pressure_scale_height')\n",
    "hp_he1 = p_he1.data('pressure_scale_height')\n",
    "hp_he05 = p_he05.data('pressure_scale_height')\n",
    "hp_he001 = p_he001.data('pressure_scale_height')\n",
    "hp_c05 = p_c05.data('pressure_scale_height')\n",
    "hp_c03 = p_c03.data('pressure_scale_height')\n",
    "\n",
    "#20 solar mass star\n",
    "p_20_h06 = mr.MesaData('/Users/lsanchez/astro/full_stellar_evolution/20/LOGS/profile3.data')\n",
    "p_20_h03 = mr.MesaData('/Users/lsanchez/astro/full_stellar_evolution/20/LOGS/profile7.data')\n",
    "p_20_h001 = mr.MesaData('/Users/lsanchez/astro/full_stellar_evolution/20/LOGS/profile11.data')\n",
    "p_20_he1 = mr.MesaData('/Users/lsanchez/astro/full_stellar_evolution/20/LOGS/profile12.data')\n",
    "p_20_he05 = mr.MesaData('/Users/lsanchez/astro/full_stellar_evolution/20/LOGS/profile20.data')\n",
    "p_20_he001 = mr.MesaData('/Users/lsanchez/astro/full_stellar_evolution/20/LOGS/profile27.data')\n",
    "\n",
    "conv_vel_20_h06 = p_20_h06.data('conv_vel') \n",
    "conv_vel_20_h03 = p_20_h03.data('conv_vel')\n",
    "conv_vel_20_h001 = p_20_h001.data('conv_vel')\n",
    "conv_vel_20_he1 = p_20_he1.data('conv_vel')\n",
    "conv_vel_20_he05 = p_20_he05.data('conv_vel')\n",
    "conv_vel_20_he001 = p_20_he001.data('conv_vel')\n",
    "\n",
    "B_20_h06 = p_20_h06.data('B_equipartition')\n",
    "B_20_h03 = p_20_h03.data('B_equipartition')\n",
    "B_20_h001 = p_20_h001.data('B_equipartition')\n",
    "B_20_he1 = p_20_he1.data('B_equipartition')\n",
    "B_20_he05 = p_20_he05.data('B_equipartition')\n",
    "B_20_he001 = p_20_he001.data('B_equipartition')\n",
    "\n",
    "mass_20_h06 = p_20_h06.data('mass')\n",
    "mass_20_h03 = p_20_h03.data('mass')\n",
    "mass_20_h001 = p_20_h001.data('mass')\n",
    "mass_20_he1 = p_20_he1.data('mass')\n",
    "mass_20_he05 = p_20_he05.data('mass')\n",
    "mass_20_he001 = p_20_he001.data('mass')\n",
    "\n",
    "radius_20_h06 = p_20_h06.data('radius')\n",
    "radius_20_h03 = p_20_h03.data('radius')\n",
    "radius_20_h001 = p_20_h001.data('radius')\n",
    "radius_20_he1 = p_20_he1.data('radius')\n",
    "radius_20_he05 = p_20_he05.data('radius')\n",
    "radius_20_he001 = p_20_he001.data('radius')\n",
    "\n",
    "hp_20_h06 = p_20_h06.data('pressure_scale_height') \n",
    "hp_20_h03 = p_20_h03.data('pressure_scale_height')\n",
    "hp_20_h001 = p_20_h001.data('pressure_scale_height')\n",
    "hp_20_he1 = p_20_he1.data('pressure_scale_height')\n",
    "hp_20_he05 = p_20_he05.data('pressure_scale_height')\n",
    "hp_20_he001 = p_20_he001.data('pressure_scale_height')\n",
    "\n",
    "#10 solar mass star\n",
    "p_10_h06 = mr.MesaData('/Users/lsanchez/astro/full_stellar_evolution/10/LOGS/profile2.data')\n",
    "p_10_h03 = mr.MesaData('/Users/lsanchez/astro/full_stellar_evolution/10/LOGS/profile7.data')\n",
    "p_10_h001 = mr.MesaData('/Users/lsanchez/astro/full_stellar_evolution/10/LOGS/profile10.data')\n",
    "p_10_he1 = mr.MesaData('/Users/lsanchez/astro/full_stellar_evolution/10/LOGS/profile11.data')\n",
    "p_10_he05 = mr.MesaData('/Users/lsanchez/astro/full_stellar_evolution/10/LOGS/profile25.data')\n",
    "p_10_he001 = mr.MesaData('/Users/lsanchez/astro/full_stellar_evolution/10/LOGS/profile33.data')\n",
    "#p_10_he05 = mr.MesaData('/Users/lsanchez/astro/full_stellar_evolution/10/LOGS/profile32.data')\n",
    "#p_10_he001 = mr.MesaData('/Users/lsanchez/astro/full_stellar_evolution/10/LOGS/profile36.data')\n",
    "\n",
    "conv_vel_10_h06 = p_10_h06.data('conv_vel') \n",
    "conv_vel_10_h03 = p_10_h03.data('conv_vel')\n",
    "conv_vel_10_h001 = p_10_h001.data('conv_vel')\n",
    "conv_vel_10_he1 = p_10_he1.data('conv_vel')\n",
    "conv_vel_10_he05 = p_10_he05.data('conv_vel')\n",
    "conv_vel_10_he001 = p_10_he001.data('conv_vel')\n",
    "\n",
    "B_10_h06 = p_10_h06.data('B_equipartition')\n",
    "B_10_h03 = p_10_h03.data('B_equipartition')\n",
    "B_10_h001 = p_10_h001.data('B_equipartition')\n",
    "B_10_he1 = p_10_he1.data('B_equipartition')\n",
    "B_10_he05 = p_10_he05.data('B_equipartition')\n",
    "B_10_he001 = p_10_he001.data('B_equipartition')\n",
    "\n",
    "mass_10_h06 = p_10_h06.data('mass')\n",
    "mass_10_h03 = p_10_h03.data('mass')\n",
    "mass_10_h001 = p_10_h001.data('mass')\n",
    "mass_10_he1 = p_10_he1.data('mass')\n",
    "mass_10_he05 = p_10_he05.data('mass')\n",
    "mass_10_he001 = p_10_he001.data('mass')\n",
    "\n",
    "radius_10_h06 = p_10_h06.data('radius')\n",
    "radius_10_h03 = p_10_h03.data('radius')\n",
    "radius_10_h001 = p_10_h001.data('radius')\n",
    "radius_10_he1 = p_10_he1.data('radius')\n",
    "radius_10_he05 = p_10_he05.data('radius')\n",
    "radius_10_he001 = p_10_he001.data('radius')\n",
    "\n",
    "hp_10_h06 = p_10_h06.data('pressure_scale_height') \n",
    "hp_10_h03 = p_10_h03.data('pressure_scale_height')\n",
    "hp_10_h001 = p_10_h001.data('pressure_scale_height')\n",
    "hp_10_he1 = p_10_he1.data('pressure_scale_height')\n",
    "hp_10_he05 = p_10_he05.data('pressure_scale_height')\n",
    "hp_10_he001 = p_10_he001.data('pressure_scale_height')\n",
    "\n",
    "#constaants\n",
    "Rsun = 69.55*m.pow(10,9) #in cm"
   ]
  },
  {
   "cell_type": "code",
   "execution_count": 74,
   "metadata": {},
   "outputs": [
    {
     "name": "stdout",
     "output_type": "stream",
     "text": [
      "Reading profile data\n",
      "Error value of B fell bellow zero\n",
      "Reading history data\n",
      "Constructing mixing regions\n",
      "there are 40 mixing zones\n"
     ]
    },
    {
     "data": {
      "image/png": "[encoded data removed]",
      "text/plain": [
       "<Figure size 432x288 with 2 Axes>"
      ]
     },
     "metadata": {},
     "output_type": "display_data"
    }
   ],
   "source": [
    "import mkipp\n",
    "import matplotlib.pyplot as plt\n",
    "import numpy as np\n",
    "\n",
    "fig = plt.figure()\n",
    "axis = plt.gca()\n",
    "#mkipp.kipp_plot returns an object containing\n",
    "#   kipp_plot.contour_plot : the return value of matplotlibs contourf. Can be\n",
    "#                            used to create a colorbar with plt.colorbar() \n",
    "#   kipp_plot.histories    : list of history files read. data can be accesed from this\n",
    "#                            using the get(\"column_name\") function\n",
    "#   kipp_plot.xlims        : limits of data in x coordinate\n",
    "kipp_plot = mkipp.kipp_plot(mkipp.Kipp_Args(\n",
    "        logs_dirs = ['LOGS'],\n",
    "        #xaxis = \"star_age\",\n",
    "        xaxis = \"model_number\",\n",
    "        yaxis = \"mass\",\n",
    "        #time_units = \"Myr\",\n",
    "        #identifier = \"y\",\n",
    "        identifier = \"B_equipartition\", \n",
    "        log10_on_data = False,\n",
    "        log_levels = False,\n",
    "        levels = np.arange(10,510000,1000),\n",
    "        decorate_plot = False,\n",
    "        save_file = False), axis = axis)\n",
    "bar = plt.colorbar(kipp_plot.contour_plot,pad=0.05)\n",
    "bar.set_label(\"magnetic field [G]\")\n",
    "axis.set_xlabel(\"Time (Myr)\")\n",
    "axis.set_ylabel(\"$m/M_{\\odot}$\")\n",
    "axis.set_xlim(kipp_plot.xlims)\n",
    "#plt.title('Magnetic field within a 10M star')\n",
    "plt.show()\n",
    "fig.savefig(\"mkipp_B_15M.pdf\")"
   ]
  },
  {
   "cell_type": "code",
   "execution_count": 11,
   "metadata": {},
   "outputs": [],
   "source": [
    "#each stage of burning takes a shorter time spam, figure out how to scale it or at least see each convection level seperately"
   ]
  },
  {
   "cell_type": "code",
   "execution_count": 17,
   "metadata": {},
   "outputs": [],
   "source": [
    "#a lot of empty space and given the short time of the latter stages of convetion this likely is past the si burning\n",
    "#use the concentration of elements in the core to define each region and graph the magnetic field in the time this is burning, \n",
    "#or difine them by when the convetion is not 0 after the burning has begun.\n",
    "#does material other than hydrogen burn in places other than the core?"
   ]
  },
  {
   "cell_type": "code",
   "execution_count": 801,
   "metadata": {},
   "outputs": [
    {
     "data": {
      "image/png": "[encoded data removed]",
      "text/plain": [
       "<Figure size 432x288 with 1 Axes>"
      ]
     },
     "metadata": {},
     "output_type": "display_data"
    }
   ],
   "source": [
    "plt.plot(age,mass_conv_core)\n",
    "plt.title('mass of convective core vs star age')\n",
    "plt.xlabel('star age (years)')\n",
    "plt.ylabel('$m/M_{\\odot}$')\n",
    "plt.savefig('mass_conv_core_vs_age.pdf')"
   ]
  },
  {
   "cell_type": "code",
   "execution_count": 802,
   "metadata": {},
   "outputs": [
    {
     "data": {
      "image/png": "[encoded data removed]",
      "text/plain": [
       "<Figure size 432x288 with 1 Axes>"
      ]
     },
     "metadata": {},
     "output_type": "display_data"
    }
   ],
   "source": [
    "plt.plot(center_h,mass_conv_core)\n",
    "#plt.title('mass of convective core vs star age')\n",
    "plt.xlabel('star age (years)')\n",
    "plt.ylabel('$m/M_{\\odot}$')\n",
    "plt.savefig('mass_conv_core_vs_age.pdf')"
   ]
  },
  {
   "cell_type": "code",
   "execution_count": 245,
   "metadata": {},
   "outputs": [],
   "source": [
    "count = np.arange(1,1000)\n",
    "ave_conv_vel_h06 = 0\n",
    "ave_conv_vel_h03 = 0\n",
    "ave_conv_vel_h001 = 0\n",
    "ave_conv_vel_he1 = 0\n",
    "ave_conv_vel_he05 = 0\n",
    "ave_conv_vel_he001 = 0\n",
    "ave_conv_vel_c05 = 0\n",
    "ave_conv_vel_c03 = 0\n",
    "\n",
    "hp_ave_h06 = 0\n",
    "hp_ave_h03 = 0\n",
    "hp_ave_h001 = 0\n",
    "hp_ave_he1 = 0\n",
    "hp_ave_he05 = 0\n",
    "hp_ave_he001 = 0\n",
    "hp_ave_c05 = 0\n",
    "hp_ave_c03 = 0\n",
    "\n",
    "n = 0\n",
    "ave_vel=0\n",
    "ave_hp=0\n",
    "\n",
    "for t in count:\n",
    "    if(conv_vel_h06[-t]>0):\n",
    "        ave_vel = ave_vel+conv_vel_h06[-t]\n",
    "        ave_hp = ave_hp+hp_h06[-t]\n",
    "        n=n+1\n",
    "    if(conv_vel_h06[-t]==0):\n",
    "        break\n",
    "ave_conv_vel_h06 = ave_vel/n\n",
    "hp_ave_h06 = ave_hp/n\n",
    "hp_max_h06 = np.max(hp_h06[-n:-1])\n",
    "hp_min_h06 = np.min(hp_h06[-n-1])\n",
    "n = 0\n",
    "ave_hp=0\n",
    "ave_vel = 0\n",
    "\n",
    "for t in count:\n",
    "    if(conv_vel_h03[-t]>0):\n",
    "        ave_vel = ave_vel+conv_vel_h03[-t]\n",
    "        ave_hp = ave_hp+hp_h03[-t]\n",
    "        n=n+1\n",
    "    if(conv_vel_h03[-t]==0):\n",
    "        break\n",
    "ave_conv_vel_h03 = ave_vel/n\n",
    "hp_ave_h03 = ave_hp/n\n",
    "hp_max_h03 = np.max(hp_h03[-n:-1])\n",
    "hp_min_h03 = np.min(hp_h03[-n-1])\n",
    "n = 0\n",
    "ave_vel = 0\n",
    "ave_hp=0\n",
    "\n",
    "for t in count:\n",
    "    if(conv_vel_h001[-t]>0):\n",
    "        ave_vel = ave_vel+conv_vel_h001[-t]\n",
    "        ave_hp = ave_hp+hp_h001[-t]\n",
    "        n=n+1\n",
    "    if(conv_vel_h001[-t]==0):\n",
    "        break\n",
    "ave_conv_vel_h001 = ave_vel/n\n",
    "hp_ave_h001 = ave_hp/n\n",
    "hp_max_h001 = np.max(hp_h001[-n:-1])\n",
    "hp_min_h001 = np.min(hp_h001[-n-1])\n",
    "n = 0\n",
    "ave_vel = 0\n",
    "ave_hp = 0\n",
    "\n",
    "for t in count:\n",
    "    if(conv_vel_he1[-t]>0):\n",
    "        ave_vel = ave_vel+conv_vel_he1[-t]\n",
    "        ave_hp = ave_hp+hp_he1[-t]\n",
    "        n=n+1\n",
    "    if(conv_vel_he1[-t]==0):\n",
    "        break\n",
    "ave_conv_vel_he1 = ave_vel/n\n",
    "hp_ave_he1 = ave_hp/n\n",
    "hp_max_he1 = np.max(hp_he1[-n:-1])\n",
    "hp_min_he1 = np.min(hp_he1[-n-1])\n",
    "n = 0\n",
    "ave_vel = 0\n",
    "ave_hp = 0\n",
    "\n",
    "for t in count:\n",
    "    if(conv_vel_he05[-t]>0):\n",
    "        ave_vel = ave_vel+conv_vel_he05[-t]\n",
    "        ave_hp = ave_hp+hp_he05[-t]\n",
    "        n=n+1\n",
    "    if(conv_vel_he05[-t]==0):\n",
    "        break\n",
    "ave_conv_vel_he05 = ave_vel/n\n",
    "hp_ave_he05 = ave_hp/n\n",
    "hp_max_he05 = np.max(hp_he05[-n:-1])\n",
    "hp_min_he05 = np.min(hp_he05[-n-1])\n",
    "n = 0\n",
    "ave_vel = 0\n",
    "ave_hp = 0\n",
    "\n",
    "for t in count:\n",
    "    if(conv_vel_he001[-t]>0):\n",
    "        ave_vel = ave_vel+conv_vel_he001[-t]\n",
    "        ave_hp = ave_hp+hp_he001[-t]\n",
    "        n=n+1\n",
    "    if(conv_vel_he001[-t]==0):\n",
    "        break\n",
    "ave_conv_vel_he001 = ave_vel/n\n",
    "hp_ave_he001 = ave_hp/n\n",
    "hp_max_he001 = np.max(hp_he001[-n:-1])\n",
    "hp_min_he001 = np.min(hp_he001[-n-1])\n",
    "n = 0\n",
    "ave_vel = 0\n",
    "ave_hp = 0\n",
    "\n",
    "for t in count:\n",
    "    if(conv_vel_c05[-t]>0):\n",
    "        ave_vel = ave_vel+conv_vel_c05[-t]\n",
    "        ave_hp = ave_hp+hp_c05[-t]\n",
    "        n=n+1\n",
    "    if(conv_vel_c05[-t]==0):\n",
    "        break\n",
    "ave_conv_vel_c05 = ave_vel/n\n",
    "hp_ave_c05 = ave_hp/n\n",
    "hp_max_c05 = np.max(hp_c05[-n:-1])\n",
    "hp_min_c05 = np.min(hp_c05[-n-1])\n",
    "n = 0\n",
    "ave_vel = 0\n",
    "ave_hp = 0\n",
    "\n",
    "for t in count:\n",
    "    if(conv_vel_c03[-t]>0):\n",
    "        ave_vel = ave_vel+conv_vel_c03[-t]\n",
    "        ave_hp = ave_hp+hp_c03[-t]\n",
    "        n=n+1\n",
    "    if(conv_vel_c03[-t]==0):\n",
    "        break\n",
    "ave_conv_vel_c03 = ave_vel/n\n",
    "hp_ave_c03 = ave_hp/n\n",
    "hp_max_c03 = np.max(hp_c03[-n:-1])\n",
    "hp_min_c03 = np.min(hp_c03[-n-1])\n",
    "\n",
    "hp_ave = ([hp_ave_h06, hp_ave_h03, hp_ave_h001, hp_ave_he1, hp_ave_he05, hp_ave_he001])\n",
    "hp_max = ([hp_max_h06, hp_max_h03, hp_max_h001, hp_max_he1, hp_max_he05, hp_max_he001])\n",
    "hp_min = ([hp_min_h06, hp_min_h03, hp_min_h001, hp_min_he1, hp_min_he05, hp_min_he001])"
   ]
  },
  {
   "cell_type": "code",
   "execution_count": 110,
   "metadata": {},
   "outputs": [],
   "source": [
    "#turnovertime calculation ==> 2hp/v\n",
    "\n",
    "turnover_hpmax = [(2*hp_max_h06)/ave_conv_vel_h06,(2*hp_max_h03)/ave_conv_vel_h03,(2*hp_max_h001)/ave_conv_vel_h001,(2*hp_max_he1)/ave_conv_vel_he1,(2*hp_max_he05)/ave_conv_vel_he05,(2*hp_max_he001)/ave_conv_vel_he001,(2*hp_max_c05)/ave_conv_vel_c05,(2*hp_max_c03)/ave_conv_vel_c03]\n",
    "turnover_hpmin = [(2*hp_min_h06)/ave_conv_vel_h06,(2*hp_min_h03)/ave_conv_vel_h03,(2*hp_min_h001)/ave_conv_vel_h001,(2*hp_min_he1)/ave_conv_vel_he1,(2*hp_min_he05)/ave_conv_vel_he05,(2*hp_min_he001)/ave_conv_vel_he001,(2*hp_min_c05)/ave_conv_vel_c05,(2*hp_min_c03)/ave_conv_vel_c03]\n",
    "turnover_hpave = [(2*hp_ave_h06)/ave_conv_vel_h06,(2*hp_ave_h03)/ave_conv_vel_h03,(2*hp_ave_h001)/ave_conv_vel_h001,(2*hp_ave_he1)/ave_conv_vel_he1,(2*hp_ave_he05)/ave_conv_vel_he05,(2*hp_ave_he001)/ave_conv_vel_he001,(2*hp_ave_c05)/ave_conv_vel_c05,(2*hp_ave_c03)/ave_conv_vel_c03]\n"
   ]
  },
  {
   "cell_type": "code",
   "execution_count": 152,
   "metadata": {},
   "outputs": [
    {
     "name": "stdout",
     "output_type": "stream",
     "text": [
      "804976.851852\n"
     ]
    }
   ],
   "source": [
    "conv_factor = Rsun/(60*60*24)\n",
    "print conv_factor"
   ]
  },
  {
   "cell_type": "code",
   "execution_count": 155,
   "metadata": {},
   "outputs": [],
   "source": [
    "turnover_tmaxd = [i * conv_factor for i in turnover_hpmax]\n",
    "turnover_taved = [i * conv_factor for i in turnover_hpave]\n",
    "turnover_tmind = [i * conv_factor for i in turnover_hpmin]"
   ]
  },
  {
   "cell_type": "code",
   "execution_count": 771,
   "metadata": {},
   "outputs": [],
   "source": [
    "r_core_h06 = 0\n",
    "r_core_h03 = 0\n",
    "r_core_h001 = 0\n",
    "conv_vel_max = np.zeros(5)\n",
    "count = np.arange(1,np.size(conv_vel_h06))\n",
    "t=0\n",
    "for n in count:\n",
    "    if conv_vel_h06[-n] != 0:\n",
    "        t=t+1\n",
    "    if conv_vel_h06[-n] == 0:\n",
    "        break\n",
    "temp = conv_vel_h06[-t:-1]\n",
    "r_core_h06 = radius_h06[-t]\n",
    "conv_vel_min[0] = np.min(temp)\n",
    "conv_vel_max[0] = np.max(temp)\n",
    "t=0\n",
    "for n in count:\n",
    "    if conv_vel_h03[-n] != 0:\n",
    "        t=t+1\n",
    "    if conv_vel_h03[-n] == 0:\n",
    "        break\n",
    "temp = conv_vel_h03[-t:-1]\n",
    "r_core_h03 = radius_h03[-t]\n",
    "conv_vel_min[1] = np.min(temp)\n",
    "conv_vel_max[1] = np.max(temp)\n",
    "for n in count:\n",
    "    if conv_vel_h001[-n] != 0:\n",
    "        t=t+1\n",
    "    if conv_vel_h001[-n] == 0:\n",
    "        break\n",
    "temp = conv_vel_h001[-t:-1]\n",
    "r_core_h001 = radius_h001[-t]\n",
    "conv_vel_min[2] = np.min(temp)\n",
    "conv_vel_max[2] = np.max(temp)\n",
    "\n"
   ]
  },
  {
   "cell_type": "code",
   "execution_count": 176,
   "metadata": {},
   "outputs": [],
   "source": [
    "hp_hmax = np.array([hp_max_h06,hp_max_h03, hp_max_h001])\n",
    "hp_have = np.array([hp_ave_h06,hp_ave_h03, hp_ave_h001])\n",
    "hp_hmin = np.array([hp_min_h06,hp_min_h03, hp_min_h001])\n",
    "\n",
    "#now all hp and conv vel information is here just turn it into the regular graphs"
   ]
  },
  {
   "cell_type": "code",
   "execution_count": 182,
   "metadata": {},
   "outputs": [],
   "source": [
    "#graph Hp values anf Conv vel as a function of H in core"
   ]
  },
  {
   "cell_type": "code",
   "execution_count": 186,
   "metadata": {},
   "outputs": [],
   "source": [
    "ave_conv_vel_prox = [ave_conv_vel_h06, ave_conv_vel_h03, ave_conv_vel_h001, ave_conv_vel_he1, ave_conv_vel_he05, ave_conv_vel_he001]"
   ]
  },
  {
   "cell_type": "code",
   "execution_count": 233,
   "metadata": {},
   "outputs": [],
   "source": [
    "#conv_vel in cm/sec\n",
    "ave_conv_vel = [i/100 for i in ave_conv_vel_prox]\n",
    "max_conv_vel = [i/100 for i in conv_vel_max]\n",
    "min_conv_vel = [i/100 for i in conv_vel_min]"
   ]
  },
  {
   "cell_type": "code",
   "execution_count": 461,
   "metadata": {},
   "outputs": [
    {
     "name": "stdout",
     "output_type": "stream",
     "text": [
      "132\n",
      "113\n"
     ]
    }
   ],
   "source": [
    "#this cuts out extreme values we previously saw in the core and towards the edge of the convective core\n",
    "\n",
    "count3 = np.arange(1, np.size(mass_h06))\n",
    "cut_vel_h06 = []\n",
    "cut_vel_h03 = []\n",
    "cut_vel_h001 = []\n",
    "cut_vel_he1 = []\n",
    "cut_vel_he05 = []\n",
    "cut_vel_he001 = []\n",
    "\n",
    "cut_hp_h06 = []\n",
    "cut_hp_h03 = []\n",
    "cut_hp_h001 = []\n",
    "cut_hp_he1 = []\n",
    "cut_hp_he05 = []\n",
    "cut_hp_he001 = []\n",
    "\n",
    "cut_mass_h06 = []\n",
    "cut_mass_h03 = []\n",
    "cut_mass_h001 = []\n",
    "cut_mass_he1 = []\n",
    "cut_mass_he05 = []\n",
    "cut_mass_he001 = []\n",
    "\n",
    "cutoff_values = np.zeros(6)\n",
    "\n",
    "n=0\n",
    "t=0\n",
    "for x in count3:\n",
    "    n = n+1\n",
    "    if ((np.log10(conv_vel_h06[-x-1])-np.log10(conv_vel_h06[-x]))/(mass_h06[-x-1] - mass_h06[-x]) >= -1):\n",
    "        t=t+1\n",
    "        cut_vel_h06.append(conv_vel_h06[-n])\n",
    "        cut_hp_h06.append(hp_h06[-n])\n",
    "        cut_mass_h06.append(mass_h06[-n]-mass_h06[-n-1])\n",
    "    if ((np.log10(conv_vel_h06[-x-1])-np.log10(conv_vel_h06[-x]))/(mass_h06[-x-1] - mass_h06[-x]) < -1 and t != 0):\n",
    "        break\n",
    "cutoff_values[0] = (np.size(conv_vel_h06)-(n-t))\n",
    "print n\n",
    "print t \n",
    "\n",
    "n=0\n",
    "t=0\n",
    "for x in count3:\n",
    "    n = n+1\n",
    "    if ((np.log10(conv_vel_h03[-x])-np.log10(conv_vel_h03[-x-1]))/(mass_h03[-x] - mass_h03[-x-1]) >= -1):\n",
    "        t=t+1\n",
    "        cut_vel_h03.append(conv_vel_h03[-n])\n",
    "        cut_hp_h03.append(hp_h03[-n])\n",
    "        cut_mass_h03.append(mass_h03[-n]-mass_h03[-n-1])\n",
    "    if ((np.log10(conv_vel_h03[-x])-np.log10(conv_vel_h03[-x-1]))/(mass_h03[-x] - mass_h03[-x-1]) < -1 and t != 0):\n",
    "        break\n",
    "cutoff_values[1] = (np.size(conv_vel_h03)-(n-t))\n",
    "\n",
    "n=0\n",
    "t=0\n",
    "for x in count3:\n",
    "    n = n+1\n",
    "    if ((np.log10(conv_vel_h001[-x])-np.log10(conv_vel_h001[-x-1]))/(mass_h001[-x] - mass_h001[-x-1]) >= -1):\n",
    "        t=t+1\n",
    "        cut_vel_h001.append(conv_vel_h001[-n])\n",
    "        cut_hp_h001.append(hp_h001[-n])\n",
    "        cut_mass_h001.append(mass_h001[-n]-mass_h001[-n-1])\n",
    "    if ((np.log10(conv_vel_h001[-x])-np.log10(conv_vel_h001[-x-1]))/(mass_h001[-x] - mass_h001[-x-1]) < -1 and t != 0):\n",
    "        break\n",
    "cutoff_values[2] = (np.size(conv_vel_h001)-(n-t))\n",
    "\n",
    "n=0\n",
    "t=0\n",
    "for x in count3:\n",
    "    n = n+1\n",
    "    if ((np.log10(conv_vel_he1[-x])-np.log10(conv_vel_he1[-x-1]))/(mass_he1[-x] - mass_he1[-x-1]) >= -1):\n",
    "        t=t+1\n",
    "        cut_vel_he1.append(conv_vel_he1[-n])\n",
    "        cut_hp_he1.append(hp_he1[-n])\n",
    "        cut_mass_he1.append(mass_he1[-n]-mass_he1[-n-1])\n",
    "    if ((np.log10(conv_vel_he1[-x])-np.log10(conv_vel_he1[-x-1]))/(mass_he1[-x] - mass_he1[-x-1]) < -1 and t != 0):\n",
    "        break\n",
    "cutoff_values[3] = (np.size(conv_vel_he1)-(n-t))\n",
    "\n",
    "n=0\n",
    "t=0\n",
    "for x in count3:\n",
    "    n = n+1\n",
    "    if ((np.log10(conv_vel_he05[-x])-np.log10(conv_vel_he05[-x-1]))/(mass_he05[-x] - mass_he05[-x-1]) >= -1):\n",
    "        t=t+1\n",
    "        cut_vel_he05.append(conv_vel_he05[-n])\n",
    "        cut_hp_he05.append(hp_he05[-n])\n",
    "        cut_mass_he05.append(mass_he05[-n]-mass_he05[-n-1])\n",
    "    if ((np.log10(conv_vel_he05[-x])-np.log10(conv_vel_he05[-x-1]))/(mass_he05[-x] - mass_he05[-x-1]) < -1 and t != 0):\n",
    "        break\n",
    "cutoff_values[4] = (np.size(conv_vel_he05)-(n-t))\n",
    "\n",
    "n=0\n",
    "t=0\n",
    "for x in count3:\n",
    "    n = n+1\n",
    "    if ((np.log10(conv_vel_he001[-x])-np.log10(conv_vel_he001[-x-1]))/(mass_he001[-x] - mass_he001[-x-1]) >= -1):\n",
    "        t=t+1\n",
    "        cut_vel_he001.append(conv_vel_he001[-n])\n",
    "        cut_hp_he001.append(hp_he001[-n])\n",
    "        cut_mass_he001.append(mass_he001[-n]-mass_he001[-n-1])\n",
    "    if ((np.log10(conv_vel_he001[-x])-np.log10(conv_vel_he001[-x-1]))/(mass_he001[-x] - mass_he001[-x-1]) < -1 and t != 0):\n",
    "        break\n",
    "cutoff_values[5] = (np.size(conv_vel_he001)-(n-t))"
   ]
  },
  {
   "cell_type": "code",
   "execution_count": 320,
   "metadata": {},
   "outputs": [
    {
     "name": "stdout",
     "output_type": "stream",
     "text": [
      "[   1    2    3 ... 1044 1045 1046]\n"
     ]
    }
   ],
   "source": [
    "#test \n",
    "a = []\n",
    "for x in count3:\n",
    "    a.append(x)\n",
    "a = np.array(a)\n",
    "print a"
   ]
  },
  {
   "cell_type": "code",
   "execution_count": 476,
   "metadata": {},
   "outputs": [],
   "source": [
    "count4 = np.arange(0,np.size(cut_hp_h06)-1)\n",
    "new_turnover_h06 = []\n",
    "for n in count4:\n",
    "    new_turnover_h06.append(2*cut_hp_h06[n]/cut_vel_h06[n])\n",
    "new_turnover_h06 = np.asarray(new_turnover_h06)\n",
    "\n",
    "count4 = np.arange(0,np.size(cut_hp_h03)-1)\n",
    "new_turnover_h03 = []\n",
    "for n in count4:\n",
    "    new_turnover_h03.append(2*cut_hp_h03[n]/cut_vel_h03[n])\n",
    "new_turnover_h03 = np.asarray(new_turnover_h03)\n",
    "\n",
    "count4 = np.arange(0,np.size(cut_hp_h001)-1)\n",
    "new_turnover_h001 = []\n",
    "for n in count4:\n",
    "    new_turnover_h001.append(2*cut_hp_h001[n]/cut_vel_h001[n])\n",
    "new_turnover_h001 = np.asarray(new_turnover_h001)\n",
    "\n",
    "count4 = np.arange(0,np.size(cut_hp_he1)-1)\n",
    "new_turnover_he1 = []\n",
    "for n in count4:\n",
    "    new_turnover_he1.append(2*cut_hp_he1[n]/cut_vel_he1[n])\n",
    "new_turnover_he1 = np.asarray(new_turnover_he1)\n",
    "\n",
    "count4 = np.arange(0,np.size(cut_hp_he05)-1)\n",
    "new_turnover_he05 = []\n",
    "for n in count4:\n",
    "    new_turnover_he05.append(2*cut_hp_he05[n]/cut_vel_he05[n])\n",
    "new_turnover_he05 = np.asarray(new_turnover_he05)\n",
    "\n",
    "count4 = np.arange(0,np.size(cut_hp_he001)-1)\n",
    "new_turnover_he001 = []\n",
    "for n in count4:\n",
    "    new_turnover_he001.append(2*cut_hp_he001[n]/cut_vel_he001[n])\n",
    "new_turnover_he001 = np.asarray(new_turnover_he001)\n"
   ]
  },
  {
   "cell_type": "code",
   "execution_count": 480,
   "metadata": {},
   "outputs": [],
   "source": [
    "new_max_turnover = [np.max(new_turnover_h06)*conv_factor, np.max(new_turnover_h03)*conv_factor, np.max(new_turnover_h001)*conv_factor, np.max(new_turnover_he1)*conv_factor, np.max(new_turnover_he05)*conv_factor, np.max(new_turnover_he001)*conv_factor]\n",
    "new_min_turnover = [np.min(new_turnover_h06)*conv_factor, np.min(new_turnover_h03)*conv_factor, np.min(new_turnover_h001)*conv_factor, np.min(new_turnover_he1)*conv_factor, np.min(new_turnover_he05)*conv_factor, np.min(new_turnover_he001)*conv_factor]\n"
   ]
  },
  {
   "cell_type": "code",
   "execution_count": 445,
   "metadata": {},
   "outputs": [],
   "source": [
    "#computing the weighted average convective velocities by multiplying each velocity by ther mass section\n",
    "\n",
    "count = np.arange(0,np.size(cut_vel_h06))\n",
    "weighted_vel_h06 = []\n",
    "for t in count:\n",
    "    weighted_vel_h06.append(cut_vel_h06[t]*cut_mass_h06[t])\n",
    "weighted_ave_vel_h06 = np.sum(weighted_vel_h06)/np.sum(cut_mass_h06)\n",
    "\n",
    "count = np.arange(0,np.size(cut_vel_h03))\n",
    "weighted_vel_h03 = []\n",
    "for t in count:\n",
    "    weighted_vel_h03.append(cut_vel_h03[t]*cut_mass_h03[t])\n",
    "weighted_ave_vel_h03 = np.sum(weighted_vel_h03)/np.sum(cut_mass_h03)\n",
    "\n",
    "count = np.arange(0,np.size(cut_vel_h001))\n",
    "weighted_vel_h001 = []\n",
    "for t in count:\n",
    "    weighted_vel_h001.append(cut_vel_h001[t]*cut_mass_h001[t])\n",
    "weighted_ave_vel_h001 = np.sum(weighted_vel_h001)/np.sum(cut_mass_h001)\n",
    "\n",
    "count = np.arange(0,np.size(cut_vel_he1))\n",
    "weighted_vel_he1 = []\n",
    "for t in count:\n",
    "    weighted_vel_he1.append(cut_vel_he1[t]*cut_mass_he1[t])\n",
    "weighted_ave_vel_he1 = np.sum(weighted_vel_he1)/np.sum(cut_mass_he1)\n",
    "\n",
    "count = np.arange(0,np.size(cut_vel_he05))\n",
    "weighted_vel_he05 = []\n",
    "for t in count:\n",
    "    weighted_vel_he05.append(cut_vel_he05[t]*cut_mass_he05[t])\n",
    "weighted_ave_vel_he05 = np.sum(weighted_vel_he05)/np.sum(cut_mass_he05)\n",
    "\n",
    "count = np.arange(0,np.size(cut_vel_he001))\n",
    "weighted_vel_he001 = []\n",
    "for t in count:\n",
    "    weighted_vel_he001.append(cut_vel_he001[t]*cut_mass_he001[t])\n",
    "weighted_ave_vel_he001 = np.sum(weighted_vel_he001)/np.sum(cut_mass_he001)"
   ]
  },
  {
   "cell_type": "code",
   "execution_count": 446,
   "metadata": {},
   "outputs": [],
   "source": [
    "#averaging the new cut hp values\n",
    "\n",
    "ave_cut_hp_h06 = np.sum(cut_hp_h06)/np.size(cut_hp_h06)\n",
    "ave_cut_hp_h03 = np.sum(cut_hp_h03)/np.size(cut_hp_h03)\n",
    "ave_cut_hp_h001 = np.sum(cut_hp_h001)/np.size(cut_hp_h001)\n",
    "ave_cut_hp_he1 = np.sum(cut_hp_he1)/np.size(cut_hp_he1)\n",
    "ave_cut_hp_he05 = np.sum(cut_hp_he05)/np.size(cut_hp_he05)\n",
    "ave_cut_hp_he001 = np.sum(cut_hp_he001)/np.size(cut_hp_he001)"
   ]
  },
  {
   "cell_type": "code",
   "execution_count": 447,
   "metadata": {},
   "outputs": [],
   "source": [
    "#convertion of all values of the cut values into the right units, I have a convertion factor already for the turnover timescale so lets do that first\n",
    "turnover_timescale_days_h06 = []\n",
    "count = np.arange(0,np.size(np.asarray(cut_hp_h06)))\n",
    "for t in count:\n",
    "    turnover_timescale_days_h06.append((2*cut_hp_h06[t]/weighted_ave_vel_h06)*conv_factor)\n",
    "turnover_timescale_days_h06 = np.asarray(turnover_timescale_days_h06)\n",
    "\n",
    "turnover_timescale_days_h03 = []\n",
    "count = np.arange(0,np.size(np.asarray(cut_hp_h03)))\n",
    "for t in count:\n",
    "    turnover_timescale_days_h03.append((2*cut_hp_h03[t]/weighted_ave_vel_h03)*conv_factor)\n",
    "turnover_timescale_days_h03 = np.asarray(turnover_timescale_days_h03)\n",
    "\n",
    "turnover_timescale_days_h001 = []\n",
    "count = np.arange(0,np.size(np.asarray(cut_hp_h001)))\n",
    "for t in count:\n",
    "    turnover_timescale_days_h001.append((2*cut_hp_h001[t]/weighted_ave_vel_h001)*conv_factor)\n",
    "turnover_timescale_days_h001 = np.asarray(turnover_timescale_days_h001)\n",
    "\n",
    "turnover_timescale_days_he1 = []\n",
    "count = np.arange(0,np.size(np.asarray(cut_hp_he1)))\n",
    "for t in count:\n",
    "    turnover_timescale_days_he1.append((2*cut_hp_he1[t]/weighted_ave_vel_he1)*conv_factor)\n",
    "turnover_timescale_days_he1 = np.asarray(turnover_timescale_days_he1)\n",
    "    \n",
    "turnover_timescale_days_he05 = []\n",
    "count = np.arange(0,np.size(np.asarray(cut_hp_he05)))\n",
    "for t in count:\n",
    "    turnover_timescale_days_he05.append((2*cut_hp_he05[t]/weighted_ave_vel_he05)*conv_factor)\n",
    "turnover_timescale_days_he05 = np.asarray(turnover_timescale_days_he05)\n",
    "    \n",
    "turnover_timescale_days_he001 = []\n",
    "count = np.arange(0,np.size(np.asarray(cut_hp_he001)))\n",
    "for t in count:\n",
    "    turnover_timescale_days_he001.append((2*cut_hp_he001[t]/weighted_ave_vel_he001)*conv_factor)\n",
    "turnover_timescale_days_he001 = np.asarray(turnover_timescale_days_he001)"
   ]
  },
  {
   "cell_type": "code",
   "execution_count": 448,
   "metadata": {},
   "outputs": [],
   "source": [
    "#now just get the max min and average make graphs and finito\n",
    "max_turnover_timescale = [np.max(turnover_timescale_days_h06),np.max(turnover_timescale_days_h03),np.max(turnover_timescale_days_h001),np.max(turnover_timescale_days_he1),np.max(turnover_timescale_days_he05),np.max(turnover_timescale_days_he001)]\n",
    "min_turnover_timescale = [np.min(turnover_timescale_days_h06),np.min(turnover_timescale_days_h03),np.min(turnover_timescale_days_h001),np.min(turnover_timescale_days_he1),np.min(turnover_timescale_days_he05),np.min(turnover_timescale_days_he001)]\n",
    "ave_turnover_timescale = [np.mean(turnover_timescale_days_h06),np.mean(turnover_timescale_days_h03),np.mean(turnover_timescale_days_h001),np.mean(turnover_timescale_days_he1),np.mean(turnover_timescale_days_he05),np.mean(turnover_timescale_days_he001)]"
   ]
  },
  {
   "cell_type": "code",
   "execution_count": 472,
   "metadata": {},
   "outputs": [
    {
     "name": "stderr",
     "output_type": "stream",
     "text": [
      "/Users/lsanchez/anaconda2/lib/python2.7/site-packages/ipykernel_launcher.py:1: RuntimeWarning: divide by zero encountered in log10\n",
      "  \"\"\"Entry point for launching an IPython kernel.\n"
     ]
    },
    {
     "data": {
      "image/png": "[encoded data removed]",
      "text/plain": [
       "<Figure size 432x288 with 1 Axes>"
      ]
     },
     "metadata": {},
     "output_type": "display_data"
    }
   ],
   "source": [
    "plt.plot(mass_h06, np.log10(conv_vel_h06), color = 'blue', label = 'cut velocities')\n",
    "plt.plot(np.flip(mass_h06[-132:-(-113+132)],0), (np.log10(cut_vel_h06)), color = 'red', label = 'full velocities')\n",
    "plt.xlabel('mass/solar mass')\n",
    "plt.ylabel('log[10] convective velocity')\n",
    "plt.legend(loc='upper right')\n",
    "plt.title('15 solar mass turnover time vs He in core')\n",
    "plt.savefig('velocities_comparison.pdf')\n",
    "#plt.xlim(0,12)"
   ]
  },
  {
   "cell_type": "code",
   "execution_count": 379,
   "metadata": {},
   "outputs": [
    {
     "data": {
      "text/plain": [
       "-0.06385886151659935"
      ]
     },
     "execution_count": 379,
     "metadata": {},
     "output_type": "execute_result"
    }
   ],
   "source": [
    "(np.log10(conv_vel_h06[999])-np.log10(conv_vel_h06[1000]))/(mass_h06[999]-mass_h06[1000])"
   ]
  },
  {
   "cell_type": "code",
   "execution_count": 487,
   "metadata": {},
   "outputs": [
    {
     "data": {
      "image/png": "[encoded data removed]",
      "text/plain": [
       "<Figure size 432x288 with 1 Axes>"
      ]
     },
     "metadata": {},
     "output_type": "display_data"
    }
   ],
   "source": [
    "count2 = [0.6,0.3,0.001]\n",
    "plt.plot(count2[0:3], new_max_turnover[0:3], label = r'Max($\\tau_{\\rm c}$) ', color = 'red')\n",
    "plt.plot(count2[0:3], new_min_turnover[0:3], label = r'Min($\\tau_{\\rm c}$) ', color = 'blue')\n",
    "plt.plot(count2[0:3], ave_turnover_timescale[0:3], label = r'Average $\\tau_{\\rm c}$', color = 'green')\n",
    "plt.gca().invert_xaxis()\n",
    "plt.xlabel('H in core')\n",
    "plt.ylabel('turnover timescale [days]')\n",
    "plt.legend(loc='upper right')\n",
    "plt.title('15 solar mass turnover time vs H in core')\n",
    "plt.savefig('H_vs_turnover_mod2.pdf')"
   ]
  },
  {
   "cell_type": "code",
   "execution_count": 483,
   "metadata": {},
   "outputs": [
    {
     "data": {
      "image/png": "[encoded data removed]",
      "text/plain": [
       "<Figure size 432x288 with 1 Axes>"
      ]
     },
     "metadata": {},
     "output_type": "display_data"
    }
   ],
   "source": [
    "count2 = [1,0.5,0.001]\n",
    "plt.plot(count2[0:3], new_max_turnover[3:6], label = r'Max($\\tau_{\\rm c}$) ', color = 'red')\n",
    "plt.plot(count2[0:3], new_min_turnover[3:6], label = 'hp min', color = 'blue')\n",
    "plt.plot(count2[0:3], ave_turnover_timescale[3:6], label = 'hp ave', color = 'green')\n",
    "plt.gca().invert_xaxis()\n",
    "plt.xlabel('He in core')\n",
    "plt.ylabel('turnover timescale [days]')\n",
    "#plt.legend(loc='upper right')\n",
    "plt.title('15 solar mass turnover time vs He in core')\n",
    "plt.savefig('He_vs_turnover_mod.pdf')"
   ]
  },
  {
   "cell_type": "code",
   "execution_count": 490,
   "metadata": {},
   "outputs": [],
   "source": [
    "#Now that I have figures out the correct way to generate these graphs for 15 solar masses I will do the same for 10 and 20 solar masses\n",
    "#note 10 solar mass star did not seem to brun through any of the helium"
   ]
  },
  {
   "cell_type": "code",
   "execution_count": 718,
   "metadata": {},
   "outputs": [
    {
     "name": "stdout",
     "output_type": "stream",
     "text": [
      "94\n",
      "70\n",
      "148\n",
      "122\n"
     ]
    }
   ],
   "source": [
    "#10 solar mass cut off extreme values function\n",
    "\n",
    "count3 = np.arange(1, np.size(mass_10_h06))\n",
    "cut_vel_10_h06 = []\n",
    "cut_vel_10_h03 = []\n",
    "cut_vel_10_h001 = []\n",
    "cut_vel_10_he1 = []\n",
    "cut_vel_10_he05 = []\n",
    "cut_vel_10_he001 = []\n",
    "\n",
    "\n",
    "cut_hp_10_h06 = []\n",
    "cut_hp_10_h03 = []\n",
    "cut_hp_10_h001 = []\n",
    "cut_hp_10_he1 = []\n",
    "cut_hp_10_he05 = []\n",
    "cut_hp_10_he001 = []\n",
    "\n",
    "cut_mass_10_h06 = []\n",
    "cut_mass_10_h03 = []\n",
    "cut_mass_10_h001 = []\n",
    "cut_mass_10_he1 = []\n",
    "cut_mass_10_he05 = []\n",
    "cut_mass_10_he001 = []\n",
    "\n",
    "cutoff_values = np.zeros(6)\n",
    "\n",
    "n=0\n",
    "t=0\n",
    "for x in count3:\n",
    "    n = n+1\n",
    "    if ((np.log10(conv_vel_10_h06[-x-1])-np.log10(conv_vel_10_h06[-x]))/(mass_10_h06[-x-1] - mass_10_h06[-x]) >= -1):\n",
    "        t=t+1\n",
    "        cut_vel_10_h06.append(conv_vel_10_h06[-n])\n",
    "        cut_hp_10_h06.append(hp_10_h06[-n])\n",
    "        cut_mass_10_h06.append(mass_10_h06[-n]-mass_10_h06[-n-1])\n",
    "    if ((np.log10(conv_vel_10_h06[-x-1])-np.log10(conv_vel_10_h06[-x]))/(mass_10_h06[-x-1] - mass_10_h06[-x]) < -1 and t != 0):\n",
    "        break\n",
    "cutoff_values[0] = (np.size(conv_vel_10_h06)-(n-t))\n",
    "\n",
    "\n",
    "n=0\n",
    "t=0\n",
    "for x in count3:\n",
    "    n = n+1\n",
    "    if ((np.log10(conv_vel_10_h03[-x])-np.log10(conv_vel_10_h03[-x-1]))/(mass_10_h03[-x] - mass_10_h03[-x-1]) >= -1):\n",
    "        t=t+1\n",
    "        cut_vel_10_h03.append(conv_vel_10_h03[-n])\n",
    "        cut_hp_10_h03.append(hp_10_h03[-n])\n",
    "        cut_mass_10_h03.append(mass_10_h03[-n]-mass_10_h03[-n-1])\n",
    "    if ((np.log10(conv_vel_10_h03[-x])-np.log10(conv_vel_10_h03[-x-1]))/(mass_10_h03[-x] - mass_10_h03[-x-1]) < -1 and t != 0):\n",
    "        break\n",
    "cutoff_values[1] = (np.size(conv_vel_10_h03)-(n-t))\n",
    "\n",
    "n=0\n",
    "t=0\n",
    "for x in count3:\n",
    "    n = n+1\n",
    "    if ((np.log10(conv_vel_10_h001[-x])-np.log10(conv_vel_10_h001[-x-1]))/(mass_10_h001[-x] - mass_10_h001[-x-1]) >= -1):\n",
    "        t=t+1\n",
    "        cut_vel_10_h001.append(conv_vel_10_h001[-n])\n",
    "        cut_hp_10_h001.append(hp_10_h001[-n])\n",
    "        cut_mass_10_h001.append(mass_10_h001[-n]-mass_10_h001[-n-1])\n",
    "    if ((np.log10(conv_vel_10_h001[-x])-np.log10(conv_vel_10_h001[-x-1]))/(mass_10_h001[-x] - mass_10_h001[-x-1]) < -1 and t != 0):\n",
    "        break\n",
    "cutoff_values[2] = (np.size(conv_vel_10_h001)-(n-t))\n",
    "\n",
    "n=0\n",
    "t=0\n",
    "for x in count3:\n",
    "    n = n+1\n",
    "    if ((np.log10(conv_vel_10_he1[-x])-np.log10(conv_vel_10_he1[-x-1]))/(mass_10_he1[-x] - mass_10_he1[-x-1]) >= -1):\n",
    "        t=t+1\n",
    "        cut_vel_10_he1.append(conv_vel_10_he1[-n])\n",
    "        cut_hp_10_he1.append(hp_10_he1[-n])\n",
    "        cut_mass_10_he1.append(mass_10_he1[-n]-mass_10_he1[-n-1])\n",
    "    if ((np.log10(conv_vel_10_he1[-x])-np.log10(conv_vel_10_he1[-x-1]))/(mass_10_he1[-x] - mass_10_he1[-x-1]) < -1 and t != 0):\n",
    "        break\n",
    "cutoff_values[3] = (np.size(conv_vel_10_he1)-(n-t))\n",
    "print n\n",
    "print t \n",
    "\n",
    "n=0\n",
    "t=0\n",
    "for x in count3:\n",
    "    n = n+1\n",
    "    if ((np.log10(conv_vel_10_he05[-x])-np.log10(conv_vel_10_he05[-x-1]))/(mass_10_he05[-x] - mass_10_he05[-x-1]) >= -1):\n",
    "        t=t+1\n",
    "        cut_vel_10_he05.append(conv_vel_10_he05[-n])\n",
    "        cut_hp_10_he05.append(hp_10_he05[-n])\n",
    "        cut_mass_10_he05.append(mass_10_he05[-n]-mass_10_he05[-n-1])\n",
    "    if ((np.log10(conv_vel_10_he05[-x])-np.log10(conv_vel_10_he05[-x-1]))/(mass_10_he05[-x] - mass_10_he05[-x-1]) < -1 and t != 0):\n",
    "        break\n",
    "cutoff_values[4] = (np.size(conv_vel_10_he05)-(n-t))\n",
    "print n\n",
    "print t \n",
    "\n",
    "n=0\n",
    "t=0\n",
    "for x in count3:\n",
    "    n = n+1\n",
    "    if ((np.log10(conv_vel_10_he001[-x])-np.log10(conv_vel_10_he001[-x-1]))/(mass_10_he001[-x] - mass_10_he001[-x-1]) >= -1):\n",
    "        t=t+1\n",
    "        cut_vel_10_he001.append(conv_vel_10_he001[-n])\n",
    "        cut_hp_10_he001.append(hp_10_he001[-n])\n",
    "        cut_mass_10_he001.append(mass_10_he001[-n]-mass_10_he001[-n-1])\n",
    "    if ((np.log10(conv_vel_10_he001[-x])-np.log10(conv_vel_10_he001[-x-1]))/(mass_10_he001[-x] - mass_10_he001[-x-1]) < -1 and t != 0):\n",
    "        break\n",
    "cutoff_values[5] = (np.size(conv_vel_10_he001)-(n-t))\n",
    "\n",
    "n=0\n",
    "t=0\n"
   ]
  },
  {
   "cell_type": "code",
   "execution_count": 513,
   "metadata": {},
   "outputs": [
    {
     "name": "stdout",
     "output_type": "stream",
     "text": [
      "169\n",
      "150\n"
     ]
    }
   ],
   "source": [
    "count3 = np.arange(1, np.size(mass_20_h06))\n",
    "cut_vel_20_h06 = []\n",
    "cut_vel_20_h03 = []\n",
    "cut_vel_20_h001 = []\n",
    "cut_vel_20_he1 = []\n",
    "cut_vel_20_he05 = []\n",
    "cut_vel_20_he001 = []\n",
    "\n",
    "cut_hp_20_h06 = []\n",
    "cut_hp_20_h03 = []\n",
    "cut_hp_20_h001 = []\n",
    "cut_hp_20_he1 = []\n",
    "cut_hp_20_he05 = []\n",
    "cut_hp_20_he001 = []\n",
    "\n",
    "cut_mass_20_h06 = []\n",
    "cut_mass_20_h03 = []\n",
    "cut_mass_20_h001 = []\n",
    "cut_mass_20_he1 = []\n",
    "cut_mass_20_he05 = []\n",
    "cut_mass_20_he001 = []\n",
    "\n",
    "cutoff_values = np.zeros(6)\n",
    "\n",
    "n=0\n",
    "t=0\n",
    "for x in count3:\n",
    "    n = n+1\n",
    "    if ((np.log10(conv_vel_20_h06[-x-1])-np.log10(conv_vel_20_h06[-x]))/(mass_20_h06[-x-1] - mass_20_h06[-x]) >= -1):\n",
    "        t=t+1\n",
    "        cut_vel_20_h06.append(conv_vel_20_h06[-n])\n",
    "        cut_hp_20_h06.append(hp_20_h06[-n])\n",
    "        cut_mass_20_h06.append(mass_20_h06[-n]-mass_20_h06[-n-1])\n",
    "    if ((np.log10(conv_vel_20_h06[-x-1])-np.log10(conv_vel_20_h06[-x]))/(mass_20_h06[-x-1] - mass_20_h06[-x]) < -1 and t != 0):\n",
    "        break\n",
    "cutoff_values[0] = (np.size(conv_vel_20_h06)-(n-t))\n",
    "print n\n",
    "print t \n",
    "\n",
    "n=0\n",
    "t=0\n",
    "for x in count3:\n",
    "    n = n+1\n",
    "    if ((np.log10(conv_vel_20_h03[-x])-np.log10(conv_vel_20_h03[-x-1]))/(mass_20_h03[-x] - mass_20_h03[-x-1]) >= -1):\n",
    "        t=t+1\n",
    "        cut_vel_20_h03.append(conv_vel_20_h03[-n])\n",
    "        cut_hp_20_h03.append(hp_20_h03[-n])\n",
    "        cut_mass_20_h03.append(mass_20_h03[-n]-mass_20_h03[-n-1])\n",
    "    if ((np.log10(conv_vel_20_h03[-x])-np.log10(conv_vel_20_h03[-x-1]))/(mass_20_h03[-x] - mass_20_h03[-x-1]) < -1 and t != 0):\n",
    "        break\n",
    "cutoff_values[1] = (np.size(conv_vel_20_h03)-(n-t))\n",
    "\n",
    "n=0\n",
    "t=0\n",
    "for x in count3:\n",
    "    n = n+1\n",
    "    if ((np.log10(conv_vel_20_h001[-x])-np.log10(conv_vel_20_h001[-x-1]))/(mass_20_h001[-x] - mass_20_h001[-x-1]) >= -1):\n",
    "        t=t+1\n",
    "        cut_vel_20_h001.append(conv_vel_20_h001[-n])\n",
    "        cut_hp_20_h001.append(hp_20_h001[-n])\n",
    "        cut_mass_20_h001.append(mass_20_h001[-n]-mass_20_h001[-n-1])\n",
    "    if ((np.log10(conv_vel_20_h001[-x])-np.log10(conv_vel_20_h001[-x-1]))/(mass_20_h001[-x] - mass_20_h001[-x-1]) < -1 and t != 0):\n",
    "        break\n",
    "cutoff_values[2] = (np.size(conv_vel_20_h001)-(n-t))\n",
    "\n",
    "n=0\n",
    "t=0\n",
    "for x in count3:\n",
    "    n = n+1\n",
    "    if ((np.log10(conv_vel_20_he1[-x])-np.log10(conv_vel_20_he1[-x-1]))/(mass_20_he1[-x] - mass_20_he1[-x-1]) >= -1):\n",
    "        t=t+1\n",
    "        cut_vel_20_he1.append(conv_vel_20_he1[-n])\n",
    "        cut_hp_20_he1.append(hp_20_he1[-n])\n",
    "        cut_mass_20_he1.append(mass_20_he1[-n]-mass_20_he1[-n-1])\n",
    "    if ((np.log10(conv_vel_20_he1[-x])-np.log10(conv_vel_20_he1[-x-1]))/(mass_20_he1[-x] - mass_20_he1[-x-1]) < -1 and t != 0):\n",
    "        break\n",
    "cutoff_values[3] = (np.size(conv_vel_20_he1)-(n-t))\n",
    "\n",
    "n=0\n",
    "t=0\n",
    "for x in count3:\n",
    "    n = n+1\n",
    "    if ((np.log10(conv_vel_20_he05[-x])-np.log10(conv_vel_20_he05[-x-1]))/(mass_20_he05[-x] - mass_20_he05[-x-1]) >= -1):\n",
    "        t=t+1\n",
    "        cut_vel_20_he05.append(conv_vel_20_he05[-n])\n",
    "        cut_hp_20_he05.append(hp_20_he05[-n])\n",
    "        cut_mass_20_he05.append(mass_20_he05[-n]-mass_20_he05[-n-1])\n",
    "    if ((np.log10(conv_vel_20_he05[-x])-np.log10(conv_vel_20_he05[-x-1]))/(mass_20_he05[-x] - mass_20_he05[-x-1]) < -1 and t != 0):\n",
    "        break\n",
    "cutoff_values[4] = (np.size(conv_vel_20_he05)-(n-t))\n",
    "\n",
    "n=0\n",
    "t=0\n",
    "for x in count3:\n",
    "    n = n+1\n",
    "    if ((np.log10(conv_vel_20_he001[-x])-np.log10(conv_vel_20_he001[-x-1]))/(mass_20_he001[-x] - mass_20_he001[-x-1]) >= -1):\n",
    "        t=t+1\n",
    "        cut_vel_20_he001.append(conv_vel_20_he001[-n])\n",
    "        cut_hp_20_he001.append(hp_20_he001[-n])\n",
    "        cut_mass_20_he001.append(mass_20_he001[-n]-mass_20_he001[-n-1])\n",
    "    if ((np.log10(conv_vel_20_he001[-x])-np.log10(conv_vel_20_he001[-x-1]))/(mass_20_he001[-x] - mass_20_he001[-x-1]) < -1 and t != 0):\n",
    "        break\n",
    "cutoff_values[5] = (np.size(conv_vel_20_he001)-(n-t))"
   ]
  },
  {
   "cell_type": "code",
   "execution_count": 685,
   "metadata": {},
   "outputs": [],
   "source": [
    "ave_cut_hp_10_h06 = np.sum(cut_hp_10_h06)/np.size(cut_hp_10_h06)\n",
    "ave_cut_hp_10_h03 = np.sum(cut_hp_10_h03)/np.size(cut_hp_10_h03)\n",
    "ave_cut_hp_10_h001 = np.sum(cut_hp_10_h001)/np.size(cut_hp_10_h001)\n",
    "ave_cut_hp_10_he1 = np.sum(cut_hp_10_he1)/np.size(cut_hp_10_he1)\n",
    "ave_cut_hp_10_he05 = np.sum(cut_hp_10_he05)/np.size(cut_hp_10_he05)\n",
    "ave_cut_hp_10_he001 = np.sum(cut_hp_10_he001)/np.size(cut_hp_10_he001)\n",
    "\n",
    "ave_cut_hp_20_h06 = np.sum(cut_hp_20_h06)/np.size(cut_hp_20_h06)\n",
    "ave_cut_hp_20_h03 = np.sum(cut_hp_20_h03)/np.size(cut_hp_20_h03)\n",
    "ave_cut_hp_20_h001 = np.sum(cut_hp_20_h001)/np.size(cut_hp_20_h001)\n",
    "ave_cut_hp_20_he1 = np.sum(cut_hp_20_he1)/np.size(cut_hp_20_he1)\n",
    "ave_cut_hp_20_he05 = np.sum(cut_hp_20_he05)/np.size(cut_hp_20_he05)\n",
    "ave_cut_hp_20_he001 = np.sum(cut_hp_20_he001)/np.size(cut_hp_20_he001)"
   ]
  },
  {
   "cell_type": "code",
   "execution_count": 720,
   "metadata": {},
   "outputs": [],
   "source": [
    "count = np.arange(0,np.size(cut_vel_10_h06))\n",
    "weighted_vel_10_h06 = []\n",
    "for t in count:\n",
    "    weighted_vel_10_h06.append(cut_vel_10_h06[t]*cut_mass_10_h06[t])\n",
    "weighted_ave_vel_10_h06 = np.sum(weighted_vel_10_h06)/np.sum(cut_mass_10_h06)\n",
    "\n",
    "count = np.arange(0,np.size(cut_vel_10_h03))\n",
    "weighted_vel_10_h03 = []\n",
    "for t in count:\n",
    "    weighted_vel_10_h03.append(cut_vel_10_h03[t]*cut_mass_10_h03[t])\n",
    "weighted_ave_vel_10_h03 = np.sum(weighted_vel_10_h03)/np.sum(cut_mass_10_h03)\n",
    "\n",
    "count = np.arange(0,np.size(cut_vel_10_h001))\n",
    "weighted_vel_10_h001 = []\n",
    "for t in count:\n",
    "    weighted_vel_10_h001.append(cut_vel_10_h001[t]*cut_mass_10_h001[t])\n",
    "weighted_ave_vel_10_h001 = np.sum(weighted_vel_10_h001)/np.sum(cut_mass_10_h001)\n",
    "\n",
    "count = np.arange(0,np.size(cut_vel_10_he1))\n",
    "weighted_vel_10_he1 = []\n",
    "for t in count:\n",
    "    weighted_vel_10_he1.append(cut_vel_10_he1[t]*cut_mass_10_he1[t])\n",
    "weighted_ave_vel_10_he1 = np.sum(weighted_vel_10_he1)/np.sum(cut_mass_10_he1)\n",
    "\n",
    "count = np.arange(0,np.size(cut_vel_10_he05))\n",
    "weighted_vel_10_he05 = []\n",
    "for t in count:\n",
    "    weighted_vel_10_he05.append(cut_vel_10_he05[t]*cut_mass_10_he05[t])\n",
    "weighted_ave_vel_10_he05 = np.sum(weighted_vel_10_he05)/np.sum(cut_mass_10_he05)\n",
    "\n",
    "count = np.arange(0,np.size(cut_vel_10_he001))\n",
    "weighted_vel_10_he001 = []\n",
    "for t in count:\n",
    "    weighted_vel_10_he001.append(cut_vel_10_he001[t]*cut_mass_10_he001[t])\n",
    "weighted_ave_vel_10_he001 = np.sum(weighted_vel_10_he001)/np.sum(cut_mass_10_he001)\n",
    "\n",
    "#now 20 solar masses\n",
    "count = np.arange(0,np.size(cut_vel_20_h06))\n",
    "weighted_vel_20_h06 = []\n",
    "for t in count:\n",
    "    weighted_vel_20_h06.append(cut_vel_20_h06[t]*cut_mass_20_h06[t])\n",
    "weighted_ave_vel_20_h06 = np.sum(weighted_vel_20_h06)/np.sum(cut_mass_20_h06)\n",
    "\n",
    "count = np.arange(0,np.size(cut_vel_20_h03))\n",
    "weighted_vel_20_h03 = []\n",
    "for t in count:\n",
    "    weighted_vel_20_h03.append(cut_vel_20_h03[t]*cut_mass_20_h03[t])\n",
    "weighted_ave_vel_20_h03 = np.sum(weighted_vel_20_h03)/np.sum(cut_mass_20_h03)\n",
    "\n",
    "count = np.arange(0,np.size(cut_vel_20_h001))\n",
    "weighted_vel_20_h001 = []\n",
    "for t in count:\n",
    "    weighted_vel_20_h001.append(cut_vel_20_h001[t]*cut_mass_20_h001[t])\n",
    "weighted_ave_vel_20_h001 = np.sum(weighted_vel_20_h001)/np.sum(cut_mass_20_h001)\n",
    "\n",
    "count = np.arange(0,np.size(cut_vel_20_he1))\n",
    "weighted_vel_20_he1 = []\n",
    "for t in count:\n",
    "    weighted_vel_20_he1.append(cut_vel_20_he1[t]*cut_mass_20_he1[t])\n",
    "weighted_ave_vel_20_he1 = np.sum(weighted_vel_20_he1)/np.sum(cut_mass_20_he1)\n",
    "\n",
    "count = np.arange(0,np.size(cut_vel_20_he05))\n",
    "weighted_vel_20_he05 = []\n",
    "for t in count:\n",
    "    weighted_vel_20_he05.append(cut_vel_20_he05[t]*cut_mass_20_he05[t])\n",
    "weighted_ave_vel_20_he05 = np.sum(weighted_vel_20_he05)/np.sum(cut_mass_20_he05)\n",
    "\n",
    "count = np.arange(0,np.size(cut_vel_20_he001))\n",
    "weighted_vel_20_he001 = []\n",
    "for t in count:\n",
    "    weighted_vel_20_he001.append(cut_vel_20_he001[t]*cut_mass_20_he001[t])\n",
    "weighted_ave_vel_20_he001 = np.sum(weighted_vel_20_he001)/np.sum(cut_mass_20_he001)"
   ]
  },
  {
   "cell_type": "code",
   "execution_count": 721,
   "metadata": {},
   "outputs": [],
   "source": [
    "turnover_timescale_days_10_h06 = []\n",
    "count = np.arange(0,np.size(np.asarray(cut_hp_10_h06)))\n",
    "for t in count:\n",
    "    turnover_timescale_days_10_h06.append((2*cut_hp_10_h06[t]/weighted_ave_vel_10_h06)*conv_factor)\n",
    "turnover_timescale_days_10_h06 = np.asarray(turnover_timescale_days_10_h06)\n",
    "\n",
    "turnover_timescale_days_10_h03 = []\n",
    "count = np.arange(0,np.size(np.asarray(cut_hp_10_h03)))\n",
    "for t in count:\n",
    "    turnover_timescale_days_10_h03.append((2*cut_hp_10_h03[t]/weighted_ave_vel_10_h03)*conv_factor)\n",
    "turnover_timescale_days_10_h03 = np.asarray(turnover_timescale_days_10_h03)\n",
    "\n",
    "turnover_timescale_days_10_h001 = []\n",
    "count = np.arange(0,np.size(np.asarray(cut_hp_10_h001)))\n",
    "for t in count:\n",
    "    turnover_timescale_days_10_h001.append((2*cut_hp_10_h001[t]/weighted_ave_vel_10_h001)*conv_factor)\n",
    "turnover_timescale_days_10_h001 = np.asarray(turnover_timescale_days_10_h001)\n",
    "\n",
    "turnover_timescale_days_10_he1 = []\n",
    "count = np.arange(0,np.size(np.asarray(cut_hp_10_he1)))\n",
    "for t in count:\n",
    "    turnover_timescale_days_10_he1.append((2*cut_hp_10_he1[t]/weighted_ave_vel_10_he1)*conv_factor)\n",
    "turnover_timescale_days_10_he1 = np.asarray(turnover_timescale_days_10_he1)\n",
    "\n",
    "turnover_timescale_days_10_he05 = []\n",
    "count = np.arange(0,np.size(np.asarray(cut_hp_10_he05)))\n",
    "for t in count:\n",
    "    turnover_timescale_days_10_he05.append((2*cut_hp_10_he05[t]/weighted_ave_vel_10_he05)*conv_factor)\n",
    "turnover_timescale_days_10_he05 = np.asarray(turnover_timescale_days_10_he05)\n",
    "\n",
    "turnover_timescale_days_10_he001 = []\n",
    "count = np.arange(0,np.size(np.asarray(cut_hp_10_he001)))\n",
    "for t in count:\n",
    "    turnover_timescale_days_10_he001.append((2*cut_hp_10_he001[t]/weighted_ave_vel_10_he001)*conv_factor)\n",
    "turnover_timescale_days_10_he001 = np.asarray(turnover_timescale_days_10_he001)\n",
    "    \n",
    "\n",
    "#20 solar mass star\n",
    "turnover_timescale_days_20_h06 = []\n",
    "count = np.arange(0,np.size(np.asarray(cut_hp_20_h06)))\n",
    "for t in count:\n",
    "    turnover_timescale_days_20_h06.append((2*cut_hp_20_h06[t]/weighted_ave_vel_20_h06)*conv_factor)\n",
    "turnover_timescale_days_20_h06 = np.asarray(turnover_timescale_days_20_h06)\n",
    "\n",
    "turnover_timescale_days_20_h03 = []\n",
    "count = np.arange(0,np.size(np.asarray(cut_hp_20_h03)))\n",
    "for t in count:\n",
    "    turnover_timescale_days_20_h03.append((2*cut_hp_20_h03[t]/weighted_ave_vel_20_h03)*conv_factor)\n",
    "turnover_timescale_days_20_h03 = np.asarray(turnover_timescale_days_20_h03)\n",
    "\n",
    "turnover_timescale_days_20_h001 = []\n",
    "count = np.arange(0,np.size(np.asarray(cut_hp_20_h001)))\n",
    "for t in count:\n",
    "    turnover_timescale_days_20_h001.append((2*cut_hp_20_h001[t]/weighted_ave_vel_20_h001)*conv_factor)\n",
    "turnover_timescale_days_20_h001 = np.asarray(turnover_timescale_days_20_h001)\n",
    "\n",
    "turnover_timescale_days_20_he1 = []\n",
    "count = np.arange(0,np.size(np.asarray(cut_hp_20_he1)))\n",
    "for t in count:\n",
    "    turnover_timescale_days_20_he1.append((2*cut_hp_20_he1[t]/weighted_ave_vel_20_he1)*conv_factor)\n",
    "turnover_timescale_days_20_he1 = np.asarray(turnover_timescale_days_20_he1)\n",
    "    \n",
    "turnover_timescale_days_20_he05 = []\n",
    "count = np.arange(0,np.size(np.asarray(cut_hp_20_he05)))\n",
    "for t in count:\n",
    "    turnover_timescale_days_20_he05.append((2*cut_hp_20_he05[t]/weighted_ave_vel_20_he05)*conv_factor)\n",
    "turnover_timescale_days_20_he05 = np.asarray(turnover_timescale_days_20_he05)\n",
    "    \n",
    "turnover_timescale_days_20_he001 = []\n",
    "count = np.arange(0,np.size(np.asarray(cut_hp_20_he001)))\n",
    "for t in count:\n",
    "    turnover_timescale_days_20_he001.append((2*cut_hp_20_he001[t]/weighted_ave_vel_20_he001)*conv_factor)\n",
    "turnover_timescale_days_20_he001 = np.asarray(turnover_timescale_days_20_he001)"
   ]
  },
  {
   "cell_type": "code",
   "execution_count": 722,
   "metadata": {},
   "outputs": [],
   "source": [
    "max_turnover_timescale_10 = [np.max(turnover_timescale_days_10_h06),np.max(turnover_timescale_days_10_h03),np.max(turnover_timescale_days_10_h001),np.max(turnover_timescale_days_10_he1),np.max(turnover_timescale_days_10_he05),np.max(turnover_timescale_days_10_he001)]\n",
    "min_turnover_timescale_10 = [np.min(turnover_timescale_days_10_h06),np.min(turnover_timescale_days_10_h03),np.min(turnover_timescale_days_10_h001),np.min(turnover_timescale_days_10_he1),np.min(turnover_timescale_days_10_he05),np.min(turnover_timescale_days_10_he001)]\n",
    "ave_turnover_timescale_10 = [np.mean(turnover_timescale_days_10_h06),np.mean(turnover_timescale_days_10_h03),np.mean(turnover_timescale_days_10_h001),np.mean(turnover_timescale_days_10_he1),np.mean(turnover_timescale_days_10_he05),np.mean(turnover_timescale_days_10_he001)]\n",
    "\n",
    "max_turnover_timescale_20 = [np.max(turnover_timescale_days_20_h06),np.max(turnover_timescale_days_20_h03),np.max(turnover_timescale_days_20_h001),np.max(turnover_timescale_days_20_he1),np.max(turnover_timescale_days_20_he05),np.max(turnover_timescale_days_20_he001)]\n",
    "min_turnover_timescale_20 = [np.min(turnover_timescale_days_20_h06),np.min(turnover_timescale_days_20_h03),np.min(turnover_timescale_days_20_h001),np.min(turnover_timescale_days_20_he1),np.min(turnover_timescale_days_20_he05),np.min(turnover_timescale_days_20_he001)]\n",
    "ave_turnover_timescale_20 = [np.mean(turnover_timescale_days_20_h06),np.mean(turnover_timescale_days_20_h03),np.mean(turnover_timescale_days_20_h001),np.mean(turnover_timescale_days_20_he1),np.mean(turnover_timescale_days_20_he05),np.mean(turnover_timescale_days_20_he001)]"
   ]
  },
  {
   "cell_type": "code",
   "execution_count": 723,
   "metadata": {},
   "outputs": [],
   "source": [
    "count4 = np.arange(0,np.size(cut_hp_10_h06)-1)\n",
    "new_turnover_10_h06 = []\n",
    "for n in count4:\n",
    "    new_turnover_10_h06.append(2*cut_hp_10_h06[n]/cut_vel_10_h06[n])\n",
    "new_turnover_10_h06 = np.asarray(new_turnover_10_h06)\n",
    "\n",
    "count4 = np.arange(0,np.size(cut_hp_10_h03)-1)\n",
    "new_turnover_10_h03 = []\n",
    "for n in count4:\n",
    "    new_turnover_10_h03.append(2*cut_hp_10_h03[n]/cut_vel_10_h03[n])\n",
    "new_turnover_10_h03 = np.asarray(new_turnover_10_h03)\n",
    "\n",
    "count4 = np.arange(0,np.size(cut_hp_10_h001)-1)\n",
    "new_turnover_10_h001 = []\n",
    "for n in count4:\n",
    "    new_turnover_10_h001.append(2*cut_hp_10_h001[n]/cut_vel_10_h001[n])\n",
    "new_turnover_10_h001 = np.asarray(new_turnover_10_h001)\n",
    "\n",
    "count4 = np.arange(0,np.size(cut_hp_10_he1)-1)\n",
    "new_turnover_10_he1 = []\n",
    "for n in count4:\n",
    "    new_turnover_10_he1.append(2*cut_hp_10_he1[n]/cut_vel_10_he1[n])\n",
    "new_turnover_10_he1 = np.asarray(new_turnover_10_he1)\n",
    "\n",
    "count4 = np.arange(0,np.size(cut_hp_10_he05)-1)\n",
    "new_turnover_10_he05 = []\n",
    "for n in count4:\n",
    "    new_turnover_10_he05.append(2*cut_hp_10_he05[n]/cut_vel_10_he05[n])\n",
    "new_turnover_10_he05 = np.asarray(new_turnover_10_he05)\n",
    "\n",
    "count4 = np.arange(0,np.size(cut_hp_10_he001)-1)\n",
    "new_turnover_10_he001 = []\n",
    "for n in count4:\n",
    "    new_turnover_10_he001.append(2*cut_hp_10_he001[n]/cut_vel_10_he001[n])\n",
    "new_turnover_10_he001 = np.asarray(new_turnover_10_he001)\n",
    "\n",
    "\n",
    "\n",
    "count4 = np.arange(0,np.size(cut_hp_20_h06)-1)\n",
    "new_turnover_20_h06 = []\n",
    "for n in count4:\n",
    "    new_turnover_20_h06.append(2*cut_hp_20_h06[n]/cut_vel_20_h06[n])\n",
    "new_turnover_20_h06 = np.asarray(new_turnover_20_h06)\n",
    "\n",
    "count4 = np.arange(0,np.size(cut_hp_20_h03)-1)\n",
    "new_turnover_20_h03 = []\n",
    "for n in count4:\n",
    "    new_turnover_20_h03.append(2*cut_hp_20_h03[n]/cut_vel_20_h03[n])\n",
    "new_turnover_20_h03 = np.asarray(new_turnover_20_h03)\n",
    "\n",
    "count4 = np.arange(0,np.size(cut_hp_20_h001)-1)\n",
    "new_turnover_20_h001 = []\n",
    "for n in count4:\n",
    "    new_turnover_20_h001.append(2*cut_hp_20_h001[n]/cut_vel_20_h001[n])\n",
    "new_turnover_20_h001 = np.asarray(new_turnover_20_h001)\n",
    "\n",
    "count4 = np.arange(0,np.size(cut_hp_20_he1)-1)\n",
    "new_turnover_20_he1 = []\n",
    "for n in count4:\n",
    "    new_turnover_20_he1.append(2*cut_hp_20_he1[n]/cut_vel_20_he1[n])\n",
    "new_turnover_20_he1 = np.asarray(new_turnover_20_he1)\n",
    "\n",
    "count4 = np.arange(0,np.size(cut_hp_20_he05)-1)\n",
    "new_turnover_20_he05 = []\n",
    "for n in count4:\n",
    "    new_turnover_20_he05.append(2*cut_hp_20_he05[n]/cut_vel_20_he05[n])\n",
    "new_turnover_20_he05 = np.asarray(new_turnover_20_he05)\n",
    "\n",
    "count4 = np.arange(0,np.size(cut_hp_20_he001)-1)\n",
    "new_turnover_20_he001 = []\n",
    "for n in count4:\n",
    "    new_turnover_20_he001.append(2*cut_hp_20_he001[n]/cut_vel_20_he001[n])\n",
    "new_turnover_20_he001 = np.asarray(new_turnover_20_he001)"
   ]
  },
  {
   "cell_type": "code",
   "execution_count": 727,
   "metadata": {},
   "outputs": [],
   "source": [
    "new_max_turnover_10 = [np.max(new_turnover_10_h06)*conv_factor, np.max(new_turnover_10_h03)*conv_factor, np.max(new_turnover_10_h001)*conv_factor, np.max(new_turnover_10_he1)*conv_factor, np.max(new_turnover_10_he05)*conv_factor, np.max(new_turnover_10_he001)*conv_factor]\n",
    "new_min_turnover_10 = [np.min(new_turnover_10_h06)*conv_factor, np.min(new_turnover_10_h03)*conv_factor, np.min(new_turnover_10_h001)*conv_factor, np.min(new_turnover_10_he1)*conv_factor, np.min(new_turnover_10_he05)*conv_factor, np.min(new_turnover_10_he001)*conv_factor]\n",
    "\n",
    "new_max_turnover_20 = [np.max(new_turnover_20_h06)*conv_factor, np.max(new_turnover_20_h03)*conv_factor, np.max(new_turnover_20_h001)*conv_factor, np.max(new_turnover_20_he1)*conv_factor, np.max(new_turnover_20_he05)*conv_factor, np.max(new_turnover_20_he001)*conv_factor]\n",
    "new_min_turnover_20 = [np.min(new_turnover_20_h06)*conv_factor, np.min(new_turnover_20_h03)*conv_factor, np.min(new_turnover_20_h001)*conv_factor, np.min(new_turnover_20_he1)*conv_factor, np.min(new_turnover_20_he05)*conv_factor, np.min(new_turnover_20_he001)*conv_factor]\n"
   ]
  },
  {
   "cell_type": "code",
   "execution_count": 681,
   "metadata": {},
   "outputs": [
    {
     "data": {
      "image/png": "[encoded data removed]",
      "text/plain": [
       "<Figure size 432x288 with 1 Axes>"
      ]
     },
     "metadata": {},
     "output_type": "display_data"
    }
   ],
   "source": [
    "count2 = [0.6,0.3,0.001]\n",
    "plt.plot(count2[0:3], new_max_turnover_10[0:3], label = r'Max($\\tau_{\\rm c}$) ', color = 'red')\n",
    "plt.plot(count2[0:3], new_min_turnover_10[0:3], label = r'Min($\\tau_{\\rm c}$) ', color = 'blue')\n",
    "plt.plot(count2[0:3], ave_turnover_timescale_10[0:3], label = r'Average $\\tau_{\\rm c}$', color = 'green')\n",
    "plt.gca().invert_xaxis()\n",
    "plt.xlabel('H in core')\n",
    "plt.ylabel('turnover timescale [days]')\n",
    "plt.legend(loc='upper right')\n",
    "plt.title('10 solar mass turnover time vs H in core')\n",
    "plt.savefig('H_vs_turnover_mod2_10.pdf')"
   ]
  },
  {
   "cell_type": "code",
   "execution_count": 728,
   "metadata": {},
   "outputs": [
    {
     "data": {
      "image/png": "[encoded data removed]",
      "text/plain": [
       "<Figure size 432x288 with 1 Axes>"
      ]
     },
     "metadata": {},
     "output_type": "display_data"
    }
   ],
   "source": [
    "count2 = [1,0.5,0.001]\n",
    "plt.plot(count2[0:3], new_max_turnover_10[3:6], label = r'Max($\\tau_{\\rm c}$) ', color = 'red')\n",
    "plt.plot(count2[0:3], new_min_turnover_10[3:6], label = r'Min($\\tau_{\\rm c}$) ', color = 'blue')\n",
    "plt.plot(count2[0:3], ave_turnover_timescale_10[3:6], label = r'Average($\\tau_{\\rm c}$) ', color = 'green')\n",
    "plt.gca().invert_xaxis()\n",
    "plt.xlabel('He in core')\n",
    "plt.ylabel('turnover timescale [days]')\n",
    "plt.legend(loc='upper right')\n",
    "plt.title('10 solar mass turnover time vs He in core')\n",
    "plt.savefig('He_vs_turnover_mod2_20.pdf')"
   ]
  },
  {
   "cell_type": "code",
   "execution_count": 530,
   "metadata": {},
   "outputs": [
    {
     "data": {
      "image/png": "[encoded data removed]",
      "text/plain": [
       "<Figure size 432x288 with 1 Axes>"
      ]
     },
     "metadata": {},
     "output_type": "display_data"
    }
   ],
   "source": [
    "count2 = [0.6,0.3,0.001]\n",
    "plt.plot(count2[0:3], new_max_turnover_20[0:3], label = r'Max($\\tau_{\\rm c}$) ', color = 'red')\n",
    "plt.plot(count2[0:3], new_min_turnover_20[0:3], label = r'Min($\\tau_{\\rm c}$) ', color = 'blue')\n",
    "plt.plot(count2[0:3], ave_turnover_timescale_20[0:3], label = r'Average $\\tau_{\\rm c}$', color = 'green')\n",
    "plt.gca().invert_xaxis()\n",
    "plt.xlabel('H in core')\n",
    "plt.ylabel('turnover timescale [days]')\n",
    "plt.legend(loc='upper right')\n",
    "plt.title('20 solar mass turnover time vs H in core')\n",
    "plt.savefig('H_vs_turnover_mod2_20.pdf')"
   ]
  },
  {
   "cell_type": "code",
   "execution_count": 726,
   "metadata": {},
   "outputs": [
    {
     "data": {
      "image/png": "[encoded data removed]",
      "text/plain": [
       "<Figure size 432x288 with 1 Axes>"
      ]
     },
     "metadata": {},
     "output_type": "display_data"
    }
   ],
   "source": [
    "count2 = [1,0.5,0.001]\n",
    "plt.plot(count2[0:3], new_max_turnover_20[3:6], label = r'Max($\\tau_{\\rm c}$) ', color = 'red')\n",
    "plt.plot(count2[0:3], new_min_turnover_20[3:6], label = r'Min($\\tau_{\\rm c}$) ', color = 'blue')\n",
    "plt.plot(count2[0:3], ave_turnover_timescale_20[3:6], label = r'Average($\\tau_{\\rm c}$) ', color = 'green')\n",
    "plt.gca().invert_xaxis()\n",
    "plt.xlabel('He in core')\n",
    "plt.ylabel('turnover timescale [days]')\n",
    "plt.legend(loc='upper right')\n",
    "plt.title('20 solar mass turnover time vs He in core')\n",
    "plt.savefig('He_vs_turnover_mod2_20.pdf')"
   ]
  },
  {
   "cell_type": "code",
   "execution_count": null,
   "metadata": {},
   "outputs": [],
   "source": [
    "#most O type stars are onbserved to have a rotational velocity at around 40-80 km/seconds however values for the rotatinal velocity have been found to be \n",
    "#as big as 600 km/sec"
   ]
  },
  {
   "cell_type": "code",
   "execution_count": null,
   "metadata": {},
   "outputs": [],
   "source": [
    "#calcilating period of rotation\n",
    "#period_rotation = 2*Pi*r/v_sin_i\n"
   ]
  },
  {
   "cell_type": "code",
   "execution_count": 543,
   "metadata": {},
   "outputs": [],
   "source": [
    "countx = np.arange(0,29)\n",
    "v_sin_i = []\n",
    "#np.array(v_sin_i[29])  \n",
    "for t in countx:\n",
    "    v_sin_i.append(t*20)\n",
    "v_sin_i = np.asarray(v_sin_i)"
   ]
  },
  {
   "cell_type": "code",
   "execution_count": 544,
   "metadata": {},
   "outputs": [],
   "source": [
    "prob_density_B = np.array([2.2,2.4,2.45,2.55,2.25,1.40,1.0,0.75,1.05,2.40,3.0,2.85,2.75,2.90,3.2,3.3,3.2,2.50,2.0,1.8,1.5,1.10,0.75,0.7,0.5,0.21,0.09,0.08,0.06,0.04])"
   ]
  },
  {
   "cell_type": "code",
   "execution_count": 546,
   "metadata": {},
   "outputs": [],
   "source": [
    "prox_vel = np.zeros(30)\n",
    "for t in countx:\n",
    "    prox_vel[t] = v_sin_i[t]*prob_density_B[t] "
   ]
  },
  {
   "cell_type": "code",
   "execution_count": 551,
   "metadata": {},
   "outputs": [],
   "source": [
    "ave_rot_vel_B = np.sum(prox_vel)/np.sum(prob_density_B)"
   ]
  },
  {
   "cell_type": "code",
   "execution_count": 552,
   "metadata": {},
   "outputs": [
    {
     "name": "stdout",
     "output_type": "stream",
     "text": [
      "224.23695566888975\n"
     ]
    }
   ],
   "source": [
    "print ave_rot_vel_B"
   ]
  },
  {
   "cell_type": "code",
   "execution_count": 554,
   "metadata": {},
   "outputs": [
    {
     "name": "stdout",
     "output_type": "stream",
     "text": [
      "3.14159265359\n"
     ]
    }
   ],
   "source": [
    "print np.pi"
   ]
  },
  {
   "cell_type": "code",
   "execution_count": 570,
   "metadata": {},
   "outputs": [],
   "source": [
    "circ_10 = np.array([2*np.pi*radius_10_h06[0],2*np.pi*radius_10_h03[0],2*np.pi*radius_10_h001[0]])\n",
    "circ_15 = np.array([2*np.pi*radius_h06[0],2*np.pi*radius_h03[0],2*np.pi*radius_h001[0]])\n",
    "circ_20 = np.array([2*np.pi*radius_20_h06[0],2*np.pi*radius_20_h03[0],2*np.pi*radius_20_h001[0]])"
   ]
  },
  {
   "cell_type": "code",
   "execution_count": null,
   "metadata": {},
   "outputs": [],
   "source": [
    "#O type stars seems to normally rotate at less than 120 km/sec https://www.aanda.org/articles/aa/pdf/2017/05/aa29210-16.pdf"
   ]
  },
  {
   "cell_type": "code",
   "execution_count": 588,
   "metadata": {},
   "outputs": [],
   "source": [
    "#will give this new array some odd units namely km*days/sec so that when its divided by the speed i only have units of days left\n",
    "count = np.arange(0,3)\n",
    "circ_days_10 = np.zeros(3)\n",
    "circ_days_15 = np.zeros(3)\n",
    "circ_days_20 = np.zeros(3)\n",
    "for t in count:\n",
    "    circ_days_10[t] = circ_10[t]*Rsun*(1.0/10000)*(1.0/60)*(1.0/60)*(1.0/24) #units of km*days\n",
    "    circ_days_15[t] = circ_15[t]*Rsun*(1.0/10000)*(1.0/60)*(1.0/60)*(1.0/24)\n",
    "    circ_days_20[t] = circ_20[t]*Rsun*(1.0/10000)*(1.0/60)*(1.0/60)*(1.0/24)\n"
   ]
  },
  {
   "cell_type": "code",
   "execution_count": 589,
   "metadata": {},
   "outputs": [
    {
     "name": "stdout",
     "output_type": "stream",
     "text": [
      "[0 1 2]\n"
     ]
    }
   ],
   "source": [
    "print count"
   ]
  },
  {
   "cell_type": "code",
   "execution_count": 596,
   "metadata": {},
   "outputs": [],
   "source": [
    "v_min_10 = np.zeros(3)\n",
    "v_min_15 = np.zeros(3)\n",
    "v_min_20 = np.zeros(3)\n",
    "for t in count:\n",
    "    v_min_10[t] = circ_days_10[t]/ave_turnover_timescale_10[t]\n",
    "    v_min_15[t] = circ_days_15[t]/ave_turnover_timescale[t]\n",
    "    v_min_20[t] = circ_days_20[t]/ave_turnover_timescale_20[t]"
   ]
  },
  {
   "cell_type": "code",
   "execution_count": 597,
   "metadata": {},
   "outputs": [
    {
     "name": "stdout",
     "output_type": "stream",
     "text": [
      "[ 42.73232198  80.68114192 180.11081652]\n",
      "[ 60.83462409 111.45091099 273.04990418]\n",
      "[ 76.41466925 144.3955494  359.72837268]\n"
     ]
    }
   ],
   "source": [
    "print v_min_10\n",
    "print v_min_15\n",
    "print v_min_20"
   ]
  },
  {
   "cell_type": "code",
   "execution_count": 583,
   "metadata": {},
   "outputs": [
    {
     "name": "stdout",
     "output_type": "stream",
     "text": [
      "0.1\n"
     ]
    }
   ],
   "source": [
    "x = 1/10.0\n",
    "print x"
   ]
  },
  {
   "cell_type": "code",
   "execution_count": 739,
   "metadata": {},
   "outputs": [],
   "source": [
    "from tabula import read_pdf\n",
    "\n",
    "read_pdf(\"/Users/lsanchez/Downloads/O_type_stars.pdf\")"
   ]
  },
  {
   "cell_type": "code",
   "execution_count": 604,
   "metadata": {},
   "outputs": [],
   "source": [
    "import camelot"
   ]
  },
  {
   "cell_type": "code",
   "execution_count": 672,
   "metadata": {},
   "outputs": [],
   "source": [
    "tables = camelot.read_pdf('/Users/lsanchez/Downloads/O_type_stars.pdf', pages='18')"
   ]
  },
  {
   "cell_type": "code",
   "execution_count": 668,
   "metadata": {},
   "outputs": [],
   "source": [
    "tables.export('/Users/lsanchez/Downloads/O_type_stars.csv', f='csv', compress=True) # json, excel, html"
   ]
  },
  {
   "cell_type": "code",
   "execution_count": 674,
   "metadata": {},
   "outputs": [
    {
     "data": {
      "text/plain": [
       "<TableList n=0>"
      ]
     },
     "execution_count": 674,
     "metadata": {},
     "output_type": "execute_result"
    }
   ],
   "source": [
    "tables"
   ]
  },
  {
   "cell_type": "code",
   "execution_count": 657,
   "metadata": {},
   "outputs": [],
   "source": [
    "from tabula import read_pdf\n",
    "from tabulate import tabulate"
   ]
  },
  {
   "cell_type": "code",
   "execution_count": 670,
   "metadata": {},
   "outputs": [],
   "source": [
    "df=read_pdf(\"/Users/lsanchez/Downloads/O_type_stars.pdf\", pages=18)"
   ]
  },
  {
   "cell_type": "code",
   "execution_count": 675,
   "metadata": {},
   "outputs": [],
   "source": [
    "O_type_stars = np.array([22,29,18,11,6,5,2,4,3,2,1,0,1,0,1])"
   ]
  },
  {
   "cell_type": "code",
   "execution_count": 676,
   "metadata": {},
   "outputs": [],
   "source": [
    "#current objectives, code for 10M star modified\n",
    "#now that data have we have is easier to import take it, graph it and fit it to a gaussian or something"
   ]
  },
  {
   "cell_type": "code",
   "execution_count": 698,
   "metadata": {},
   "outputs": [
    {
     "ename": "IndexError",
     "evalue": "list index out of range",
     "output_type": "error",
     "traceback": [
      "\u001b[0;31m---------------------------------------------------------------------------\u001b[0m",
      "\u001b[0;31mIndexError\u001b[0m                                Traceback (most recent call last)",
      "\u001b[0;32m<ipython-input-698-07aa25fb9a9f>\u001b[0m in \u001b[0;36m<module>\u001b[0;34m()\u001b[0m\n\u001b[1;32m      2\u001b[0m \u001b[0mweighted_vel_10_he05\u001b[0m \u001b[0;34m=\u001b[0m \u001b[0;34m[\u001b[0m\u001b[0;34m]\u001b[0m\u001b[0;34m\u001b[0m\u001b[0m\n\u001b[1;32m      3\u001b[0m \u001b[0;32mfor\u001b[0m \u001b[0mt\u001b[0m \u001b[0;32min\u001b[0m \u001b[0mcount\u001b[0m\u001b[0;34m:\u001b[0m\u001b[0;34m\u001b[0m\u001b[0m\n\u001b[0;32m----> 4\u001b[0;31m     \u001b[0mweighted_vel_10_he05\u001b[0m\u001b[0;34m.\u001b[0m\u001b[0mappend\u001b[0m\u001b[0;34m(\u001b[0m\u001b[0mcut_vel_10_he05\u001b[0m\u001b[0;34m[\u001b[0m\u001b[0mt\u001b[0m\u001b[0;34m]\u001b[0m\u001b[0;34m*\u001b[0m\u001b[0mcut_mass_10_he05\u001b[0m\u001b[0;34m[\u001b[0m\u001b[0mt\u001b[0m\u001b[0;34m]\u001b[0m\u001b[0;34m)\u001b[0m\u001b[0;34m\u001b[0m\u001b[0m\n\u001b[0m\u001b[1;32m      5\u001b[0m \u001b[0mweighted_ave_vel_10_he05\u001b[0m \u001b[0;34m=\u001b[0m \u001b[0mnp\u001b[0m\u001b[0;34m.\u001b[0m\u001b[0msum\u001b[0m\u001b[0;34m(\u001b[0m\u001b[0mweighted_vel_10_he05\u001b[0m\u001b[0;34m)\u001b[0m\u001b[0;34m/\u001b[0m\u001b[0mnp\u001b[0m\u001b[0;34m.\u001b[0m\u001b[0msum\u001b[0m\u001b[0;34m(\u001b[0m\u001b[0mcut_mass_10_he05\u001b[0m\u001b[0;34m)\u001b[0m\u001b[0;34m\u001b[0m\u001b[0m\n",
      "\u001b[0;31mIndexError\u001b[0m: list index out of range"
     ]
    }
   ],
   "source": [
    "count = np.arange(0,np.size(cut_vel_10_he05))\n",
    "weighted_vel_10_he05 = []\n",
    "for t in count:\n",
    "    weighted_vel_10_he05.append(cut_vel_10_he05[t]*cut_mass_10_he05[t])\n",
    "weighted_ave_vel_10_he05 = np.sum(weighted_vel_10_he05)/np.sum(cut_mass_10_he05)"
   ]
  },
  {
   "cell_type": "code",
   "execution_count": 719,
   "metadata": {},
   "outputs": [
    {
     "name": "stdout",
     "output_type": "stream",
     "text": [
      "122\n",
      "122\n"
     ]
    }
   ],
   "source": [
    "print np.size(cut_mass_10_he05)\n",
    "print np.size(cut_vel_10_he05)"
   ]
  },
  {
   "cell_type": "code",
   "execution_count": 765,
   "metadata": {},
   "outputs": [
    {
     "ename": "TypeError",
     "evalue": "__init__() got an unexpected keyword argument 'max_rows'",
     "output_type": "error",
     "traceback": [
      "\u001b[0;31m---------------------------------------------------------------------------\u001b[0m",
      "\u001b[0;31mTypeError\u001b[0m                                 Traceback (most recent call last)",
      "\u001b[0;32m/Users/lsanchez/anaconda2/lib/python2.7/site-packages/IPython/core/formatters.pyc\u001b[0m in \u001b[0;36m__call__\u001b[0;34m(self, obj)\u001b[0m\n\u001b[1;32m    336\u001b[0m             \u001b[0mmethod\u001b[0m \u001b[0;34m=\u001b[0m \u001b[0mget_real_method\u001b[0m\u001b[0;34m(\u001b[0m\u001b[0mobj\u001b[0m\u001b[0;34m,\u001b[0m \u001b[0mself\u001b[0m\u001b[0;34m.\u001b[0m\u001b[0mprint_method\u001b[0m\u001b[0;34m)\u001b[0m\u001b[0;34m\u001b[0m\u001b[0m\n\u001b[1;32m    337\u001b[0m             \u001b[0;32mif\u001b[0m \u001b[0mmethod\u001b[0m \u001b[0;32mis\u001b[0m \u001b[0;32mnot\u001b[0m \u001b[0mNone\u001b[0m\u001b[0;34m:\u001b[0m\u001b[0;34m\u001b[0m\u001b[0m\n\u001b[0;32m--> 338\u001b[0;31m                 \u001b[0;32mreturn\u001b[0m \u001b[0mmethod\u001b[0m\u001b[0;34m(\u001b[0m\u001b[0;34m)\u001b[0m\u001b[0;34m\u001b[0m\u001b[0m\n\u001b[0m\u001b[1;32m    339\u001b[0m             \u001b[0;32mreturn\u001b[0m \u001b[0mNone\u001b[0m\u001b[0;34m\u001b[0m\u001b[0m\n\u001b[1;32m    340\u001b[0m         \u001b[0;32melse\u001b[0m\u001b[0;34m:\u001b[0m\u001b[0;34m\u001b[0m\u001b[0m\n",
      "\u001b[0;32m/Users/lsanchez/anaconda2/lib/python2.7/site-packages/pandas/core/frame.pyc\u001b[0m in \u001b[0;36m_repr_html_\u001b[0;34m(self)\u001b[0m\n\u001b[1;32m    694\u001b[0m         \u001b[0mSee\u001b[0m \u001b[0mAlso\u001b[0m\u001b[0;34m\u001b[0m\u001b[0m\n\u001b[1;32m    695\u001b[0m         \u001b[0;34m-\u001b[0m\u001b[0;34m-\u001b[0m\u001b[0;34m-\u001b[0m\u001b[0;34m-\u001b[0m\u001b[0;34m-\u001b[0m\u001b[0;34m-\u001b[0m\u001b[0;34m-\u001b[0m\u001b[0;34m-\u001b[0m\u001b[0;34m\u001b[0m\u001b[0m\n\u001b[0;32m--> 696\u001b[0;31m         \u001b[0mto_html\u001b[0m \u001b[0;34m:\u001b[0m \u001b[0mConvert\u001b[0m \u001b[0mDataFrame\u001b[0m \u001b[0mto\u001b[0m \u001b[0mHTML\u001b[0m\u001b[0;34m.\u001b[0m\u001b[0;34m\u001b[0m\u001b[0m\n\u001b[0m\u001b[1;32m    697\u001b[0m \u001b[0;34m\u001b[0m\u001b[0m\n\u001b[1;32m    698\u001b[0m         \u001b[0mExamples\u001b[0m\u001b[0;34m\u001b[0m\u001b[0m\n",
      "\u001b[0;32m/Users/lsanchez/anaconda2/lib/python2.7/site-packages/pandas/core/frame.pyc\u001b[0m in \u001b[0;36mto_html\u001b[0;34m(self, buf, columns, col_space, header, index, na_rep, formatters, float_format, sparsify, index_names, justify, bold_rows, classes, escape, max_rows, max_cols, show_dimensions, notebook, decimal, border, table_id)\u001b[0m\n\u001b[1;32m   2032\u001b[0m             \u001b[0mthen\u001b[0m \u001b[0mthe\u001b[0m \u001b[0mbuffer\u001b[0m \u001b[0mwill\u001b[0m \u001b[0;32mnot\u001b[0m \u001b[0mbe\u001b[0m \u001b[0mautomatically\u001b[0m \u001b[0mclosed\u001b[0m \u001b[0mafter\u001b[0m \u001b[0mthe\u001b[0m \u001b[0mfile\u001b[0m\u001b[0;34m\u001b[0m\u001b[0m\n\u001b[1;32m   2033\u001b[0m             \u001b[0mdata\u001b[0m \u001b[0mhas\u001b[0m \u001b[0mbeen\u001b[0m \u001b[0mwritten\u001b[0m\u001b[0;34m.\u001b[0m\u001b[0;34m\u001b[0m\u001b[0m\n\u001b[0;32m-> 2034\u001b[0;31m         \u001b[0mconvert_dates\u001b[0m \u001b[0;34m:\u001b[0m \u001b[0mdict\u001b[0m\u001b[0;34m\u001b[0m\u001b[0m\n\u001b[0m\u001b[1;32m   2035\u001b[0m             \u001b[0mDictionary\u001b[0m \u001b[0mmapping\u001b[0m \u001b[0mcolumns\u001b[0m \u001b[0mcontaining\u001b[0m \u001b[0mdatetime\u001b[0m \u001b[0mtypes\u001b[0m \u001b[0mto\u001b[0m \u001b[0mstata\u001b[0m\u001b[0;34m\u001b[0m\u001b[0m\n\u001b[1;32m   2036\u001b[0m             \u001b[0minternal\u001b[0m \u001b[0mformat\u001b[0m \u001b[0mto\u001b[0m \u001b[0muse\u001b[0m \u001b[0mwhen\u001b[0m \u001b[0mwriting\u001b[0m \u001b[0mthe\u001b[0m \u001b[0mdates\u001b[0m\u001b[0;34m.\u001b[0m \u001b[0mOptions\u001b[0m \u001b[0mare\u001b[0m \u001b[0;34m'tc'\u001b[0m\u001b[0;34m,\u001b[0m\u001b[0;34m\u001b[0m\u001b[0m\n",
      "\u001b[0;32m/Users/lsanchez/anaconda2/lib/python2.7/site-packages/pandas/io/formats/format.pyc\u001b[0m in \u001b[0;36mto_html\u001b[0;34m(self, classes, notebook, border)\u001b[0m\n\u001b[1;32m    747\u001b[0m             \u001b[0mdtypes\u001b[0m \u001b[0;34m=\u001b[0m \u001b[0mself\u001b[0m\u001b[0;34m.\u001b[0m\u001b[0mframe\u001b[0m\u001b[0;34m.\u001b[0m\u001b[0mdtypes\u001b[0m\u001b[0;34m.\u001b[0m\u001b[0m_values\u001b[0m\u001b[0;34m\u001b[0m\u001b[0m\n\u001b[1;32m    748\u001b[0m \u001b[0;34m\u001b[0m\u001b[0m\n\u001b[0;32m--> 749\u001b[0;31m             \u001b[0;31m# if we have a Float level, they don't use leading space at all\u001b[0m\u001b[0;34m\u001b[0m\u001b[0;34m\u001b[0m\u001b[0m\n\u001b[0m\u001b[1;32m    750\u001b[0m             \u001b[0mrestrict_formatting\u001b[0m \u001b[0;34m=\u001b[0m \u001b[0many\u001b[0m\u001b[0;34m(\u001b[0m\u001b[0ml\u001b[0m\u001b[0;34m.\u001b[0m\u001b[0mis_floating\u001b[0m \u001b[0;32mfor\u001b[0m \u001b[0ml\u001b[0m \u001b[0;32min\u001b[0m \u001b[0mcolumns\u001b[0m\u001b[0;34m.\u001b[0m\u001b[0mlevels\u001b[0m\u001b[0;34m)\u001b[0m\u001b[0;34m\u001b[0m\u001b[0m\n\u001b[1;32m    751\u001b[0m             \u001b[0mneed_leadsp\u001b[0m \u001b[0;34m=\u001b[0m \u001b[0mdict\u001b[0m\u001b[0;34m(\u001b[0m\u001b[0mzip\u001b[0m\u001b[0;34m(\u001b[0m\u001b[0mfmt_columns\u001b[0m\u001b[0;34m,\u001b[0m \u001b[0mmap\u001b[0m\u001b[0;34m(\u001b[0m\u001b[0mis_numeric_dtype\u001b[0m\u001b[0;34m,\u001b[0m \u001b[0mdtypes\u001b[0m\u001b[0;34m)\u001b[0m\u001b[0;34m)\u001b[0m\u001b[0;34m)\u001b[0m\u001b[0;34m\u001b[0m\u001b[0m\n",
      "\u001b[0;31mTypeError\u001b[0m: __init__() got an unexpected keyword argument 'max_rows'"
     ]
    },
    {
     "data": {
      "text/plain": [
       "      A\n",
       "0    90\n",
       "1    40\n",
       "2   165\n",
       "3    40\n",
       "4   265\n",
       "5    50\n",
       "6    60\n",
       "7   125\n",
       "8   175\n",
       "9    75\n",
       "10   65\n",
       "11  170\n",
       "12   40\n",
       "13  350\n",
       "14  125\n",
       "15   55\n",
       "16   40\n",
       "17   40\n",
       "18  300\n",
       "19  155\n",
       "20   40\n",
       "21  100\n",
       "22   40\n",
       "23  150\n",
       "24  600\n",
       "25   40\n",
       "26   60\n",
       "27  135\n",
       "28  215\n",
       "29   70\n",
       "..  ...\n",
       "55  295\n",
       "56  210\n",
       "57  125\n",
       "58  210\n",
       "59   50\n",
       "60   60\n",
       "61   45\n",
       "62   65\n",
       "63  105\n",
       "64  515\n",
       "65   90\n",
       "66   40\n",
       "67   40\n",
       "68  240\n",
       "69  375\n",
       "70   60\n",
       "71  105\n",
       "72   50\n",
       "73  405\n",
       "74  370\n",
       "75   50\n",
       "76  275\n",
       "77  360\n",
       "78  110\n",
       "79  290\n",
       "80  350\n",
       "81   40\n",
       "82  125\n",
       "83   95\n",
       "84   40\n",
       "\n",
       "[85 rows x 1 columns]"
      ]
     },
     "execution_count": 765,
     "metadata": {},
     "output_type": "execute_result"
    }
   ],
   "source": [
    "import pandas as pd\n",
    "raw = pd.read_table(\"ang_vel.csv\")\n",
    "#raw = pd.read_table(\"table_vsini\")\n",
    "df = pd.DataFrame(raw)\n",
    "df"
   ]
  },
  {
   "cell_type": "code",
   "execution_count": 790,
   "metadata": {},
   "outputs": [
    {
     "ename": "AttributeError",
     "evalue": "'DataFrame' object has no attribute 'tolist'",
     "output_type": "error",
     "traceback": [
      "\u001b[0;31m---------------------------------------------------------------------------\u001b[0m",
      "\u001b[0;31mAttributeError\u001b[0m                            Traceback (most recent call last)",
      "\u001b[0;32m<ipython-input-790-97915d9bb796>\u001b[0m in \u001b[0;36m<module>\u001b[0;34m()\u001b[0m\n\u001b[0;32m----> 1\u001b[0;31m \u001b[0mvsini_list\u001b[0m \u001b[0;34m=\u001b[0m \u001b[0mdf\u001b[0m\u001b[0;34m.\u001b[0m\u001b[0mtolist\u001b[0m\u001b[0;34m(\u001b[0m\u001b[0;34m)\u001b[0m\u001b[0;34m\u001b[0m\u001b[0m\n\u001b[0m",
      "\u001b[0;32m/Users/lsanchez/anaconda2/lib/python2.7/site-packages/pandas/core/generic.pyc\u001b[0m in \u001b[0;36m__getattr__\u001b[0;34m(self, name)\u001b[0m\n\u001b[1;32m   4370\u001b[0m \u001b[0;34m\u001b[0m\u001b[0m\n\u001b[1;32m   4371\u001b[0m             \u001b[0maxis\u001b[0m \u001b[0;34m=\u001b[0m \u001b[0mself\u001b[0m\u001b[0;34m.\u001b[0m\u001b[0m_get_axis_number\u001b[0m\u001b[0;34m(\u001b[0m\u001b[0ma\u001b[0m\u001b[0;34m)\u001b[0m\u001b[0;34m\u001b[0m\u001b[0m\n\u001b[0;32m-> 4372\u001b[0;31m             obj = obj._reindex_with_indexers({axis: [new_index, indexer]},\n\u001b[0m\u001b[1;32m   4373\u001b[0m                                              \u001b[0mfill_value\u001b[0m\u001b[0;34m=\u001b[0m\u001b[0mfill_value\u001b[0m\u001b[0;34m,\u001b[0m\u001b[0;34m\u001b[0m\u001b[0m\n\u001b[1;32m   4374\u001b[0m                                              copy=copy, allow_dups=False)\n",
      "\u001b[0;31mAttributeError\u001b[0m: 'DataFrame' object has no attribute 'tolist'"
     ]
    }
   ],
   "source": [
    "vsini_list = df.tolist()"
   ]
  },
  {
   "cell_type": "code",
   "execution_count": 768,
   "metadata": {},
   "outputs": [],
   "source": [
    "rot_vel = np.asarray(df.A.tolist())"
   ]
  },
  {
   "cell_type": "code",
   "execution_count": 772,
   "metadata": {},
   "outputs": [],
   "source": [
    "r_core_10_h06 = 0\n",
    "r_core_10_h03 = 0\n",
    "r_core_10_h001 = 0\n",
    "r_core_20_h06 = 0\n",
    "r_core_20_h03 = 0\n",
    "r_core_20_h001 = 0\n",
    "count = np.arange(1,np.size(conv_vel_h06))\n",
    "t=0\n",
    "for n in count:\n",
    "    if conv_vel_10_h06[-n] != 0:\n",
    "        t=t+1\n",
    "    if conv_vel_10_h06[-n] == 0:\n",
    "        break\n",
    "r_core_10_h06 = radius_10_h06[-t]\n",
    "r_core_10_h03 = 0\n",
    "\n",
    "t=0\n",
    "for n in count:\n",
    "    if conv_vel_10_h03[-n] != 0:\n",
    "        t=t+1\n",
    "    if conv_vel_10_h03[-n] == 0:\n",
    "        break\n",
    "r_core_10_h03 = radius_10_h03[-t]\n",
    "\n",
    "t=0\n",
    "for n in count:\n",
    "    if conv_vel_10_h001[-n] != 0:\n",
    "        t=t+1\n",
    "    if conv_vel_10_h001[-n] == 0:\n",
    "        break\n",
    "r_core_10_h001 = radius_10_h001[-t]\n",
    "\n",
    "\n",
    "t=0\n",
    "for n in count:\n",
    "    if conv_vel_20_h06[-n] != 0:\n",
    "        t=t+1\n",
    "    if conv_vel_20_h06[-n] == 0:\n",
    "        break\n",
    "r_core_20_h06 = radius_20_h06[-t]\n",
    "\n",
    "t=0\n",
    "for n in count:\n",
    "    if conv_vel_20_h03[-n] != 0:\n",
    "        t=t+1\n",
    "    if conv_vel_20_h03[-n] == 0:\n",
    "        break\n",
    "r_core_20_h03 = radius_20_h03[-t]\n",
    "\n",
    "t=0\n",
    "for n in count:\n",
    "    if conv_vel_20_h001[-n] != 0:\n",
    "        t=t+1\n",
    "    if conv_vel_20_h001[-n] == 0:\n",
    "        break\n",
    "r_core_20_h001 = radius_20_h001[-t]"
   ]
  },
  {
   "cell_type": "code",
   "execution_count": 805,
   "metadata": {},
   "outputs": [],
   "source": [
    "vsini_ave = np.zeros(9)"
   ]
  },
  {
   "cell_type": "code",
   "execution_count": 806,
   "metadata": {},
   "outputs": [],
   "source": [
    "vsini_ave[0] = 2*np.pi*r_core_10_h06/(ave_turnover_timescale_10[0])\n",
    "vsini_ave[1] = 2*np.pi*r_core_10_h03/(ave_turnover_timescale_10[1])\n",
    "vsini_ave[2] = 2*np.pi*r_core_10_h001/(ave_turnover_timescale_10[2])\n",
    "vsini_ave[3] = 2*np.pi*r_core_h06/(ave_turnover_timescale[0])\n",
    "vsini_ave[4] = 2*np.pi*r_core_h03/(ave_turnover_timescale[1])\n",
    "vsini_ave[5] = 2*np.pi*r_core_h001/(ave_turnover_timescale[2])\n",
    "vsini_ave[6] = 2*np.pi*r_core_20_h06/(ave_turnover_timescale_20[0])\n",
    "vsini_ave[7] = 2*np.pi*r_core_20_h03/(ave_turnover_timescale_20[1])\n",
    "vsini_ave[8] = 2*np.pi*r_core_20_h001/(ave_turnover_timescale_10[2]) "
   ]
  },
  {
   "cell_type": "code",
   "execution_count": 777,
   "metadata": {},
   "outputs": [
    {
     "name": "stdout",
     "output_type": "stream",
     "text": [
      "[0.10568318 0.12595555 0.14936521 0.17281107 0.20041973 0.38108802\n",
      " 0.24099557 0.28129076 0.30245782]\n"
     ]
    }
   ],
   "source": [
    "print Ros"
   ]
  },
  {
   "cell_type": "code",
   "execution_count": 778,
   "metadata": {},
   "outputs": [
    {
     "data": {
      "text/plain": [
       "8.049768518518519"
      ]
     },
     "execution_count": 778,
     "metadata": {},
     "output_type": "execute_result"
    }
   ],
   "source": [
    "Rsun/(100*1000*24*60*60) #rsun/days to km/sec"
   ]
  },
  {
   "cell_type": "code",
   "execution_count": 784,
   "metadata": {},
   "outputs": [
    {
     "data": {
      "text/plain": [
       "3.141592653589793"
      ]
     },
     "execution_count": 784,
     "metadata": {},
     "output_type": "execute_result"
    }
   ],
   "source": [
    "np.pi"
   ]
  },
  {
   "cell_type": "code",
   "execution_count": 783,
   "metadata": {},
   "outputs": [
    {
     "data": {
      "text/plain": [
       "1.4946151998289607"
      ]
     },
     "execution_count": 783,
     "metadata": {},
     "output_type": "execute_result"
    }
   ],
   "source": [
    "r_core_20_h03"
   ]
  },
  {
   "cell_type": "code",
   "execution_count": 786,
   "metadata": {},
   "outputs": [
    {
     "data": {
      "text/plain": [
       "8.052083333333334"
      ]
     },
     "execution_count": 786,
     "metadata": {},
     "output_type": "execute_result"
    }
   ],
   "source": [
    "6.957*m.pow(10,5)/(24*60*60)"
   ]
  },
  {
   "cell_type": "code",
   "execution_count": 788,
   "metadata": {},
   "outputs": [],
   "source": [
    "vsini_min = np.zeros(9)\n",
    "vsini_min[0] = 2*np.pi*r_core_10_h06/(min_turnover_timescale_10[0])\n",
    "vsini_min[1] = 2*np.pi*r_core_10_h03/(min_turnover_timescale_10[1])\n",
    "vsini_min[2] = 2*np.pi*r_core_10_h001/(min_turnover_timescale_10[2])\n",
    "vsini_min[3] = 2*np.pi*r_core_h06/(min_turnover_timescale[0])\n",
    "vsini_min[4] = 2*np.pi*r_core_h03/(min_turnover_timescale[1])\n",
    "vsini_min[5] = 2*np.pi*r_core_h001/(min_turnover_timescale[2])\n",
    "vsini_min[6] = 2*np.pi*r_core_20_h06/(min_turnover_timescale_20[0])\n",
    "vsini_min[7] = 2*np.pi*r_core_20_h03/(min_turnover_timescale_20[1])\n",
    "vsini_min[8] = 2*np.pi*r_core_20_h001/(min_turnover_timescale_10[2]) "
   ]
  },
  {
   "cell_type": "code",
   "execution_count": 789,
   "metadata": {},
   "outputs": [
    {
     "name": "stdout",
     "output_type": "stream",
     "text": [
      "[0.16849456 0.18845314 0.2190582  0.28603412 0.32542513 0.57625562\n",
      " 0.40749729 0.4631061  0.44358298]\n"
     ]
    }
   ],
   "source": [
    "print vsini_min"
   ]
  },
  {
   "cell_type": "code",
   "execution_count": 797,
   "metadata": {},
   "outputs": [],
   "source": [
    "count = np.arange(0,np.size(rot_vel))\n",
    "divisions2 = np.zeros(15)\n",
    "for t in count:\n",
    "    if rot_vel[t] <= 40:\n",
    "        divisions2[0] = divisions2[0]+1\n",
    "    if rot_vel[t] > 40 and rot_vel[t] <= 80:\n",
    "        divisions2[1] = divisions2[1]+1\n",
    "    if rot_vel[t] > 80 and rot_vel[t] <= 120:\n",
    "        divisions2[2] = divisions2[2]+1\n",
    "    if rot_vel[t] > 120 and rot_vel[t] <= 160:\n",
    "        divisions2[3] = divisions2[3]+1\n",
    "    if rot_vel[t] > 160 and rot_vel[t] <= 200:\n",
    "        divisions2[4] = divisions2[4]+1\n",
    "    if rot_vel[t] > 200 and rot_vel[t] <= 240:\n",
    "        divisions2[5] = divisions2[5]+1\n",
    "    if rot_vel[t] > 240 and rot_vel[t] <= 280:\n",
    "        divisions2[6] = divisions2[6]+1\n",
    "    if rot_vel[t] > 280 and rot_vel[t] <= 320:\n",
    "        divisions2[7] = divisions2[7]+1\n",
    "    if rot_vel[t] > 320 and rot_vel[t] <= 360:\n",
    "        divisions2[8] = divisions2[8]+1\n",
    "    if rot_vel[t] > 360 and rot_vel[t] <= 400:\n",
    "        divisions2[9] = divisions2[9]+1\n",
    "    if rot_vel[t] > 400 and rot_vel[t] <= 440:\n",
    "        divisions2[10] = divisions2[10]+1\n",
    "    if rot_vel[t] > 440 and rot_vel[t] <= 480:\n",
    "        divisions2[11] = divisions2[11]+1\n",
    "    if rot_vel[t] > 480 and rot_vel[t] <= 520:\n",
    "        divisions2[12] = divisions2[12]+1\n",
    "    if rot_vel[t] > 520 and rot_vel[t] <= 560:\n",
    "        divisions2[13] = divisions2[13]+1\n",
    "    if rot_vel[t] > 560 and rot_vel[t] <= 600:\n",
    "        divisions2[14] = divisions2[14]+1\n"
   ]
  },
  {
   "cell_type": "code",
   "execution_count": 795,
   "metadata": {},
   "outputs": [
    {
     "name": "stdout",
     "output_type": "stream",
     "text": [
      "[19. 20. 14. 10.  4.  5.  2.  3.  3.  2.  1.  0.  1.  0.  1.]\n"
     ]
    }
   ],
   "source": [
    "print divisions2"
   ]
  },
  {
   "cell_type": "code",
   "execution_count": 808,
   "metadata": {},
   "outputs": [
    {
     "data": {
      "text/plain": [
       "1.2883154552288276"
      ]
     },
     "execution_count": 808,
     "metadata": {},
     "output_type": "execute_result"
    }
   ],
   "source": [
    "r_core_h06"
   ]
  },
  {
   "cell_type": "code",
   "execution_count": 807,
   "metadata": {},
   "outputs": [
    {
     "name": "stdout",
     "output_type": "stream",
     "text": [
      "[0.10568318 0.12595555 0.14936521 0.17281107 0.20041973 0.38108802\n",
      " 0.24099557 0.28129076 0.30245782]\n"
     ]
    }
   ],
   "source": [
    "print vsini_ave"
   ]
  },
  {
   "cell_type": "code",
   "execution_count": null,
   "metadata": {},
   "outputs": [],
   "source": []
  }
 ],
 "metadata": {
  "kernelspec": {
   "display_name": "Python 2",
   "language": "python",
   "name": "python2"
  },
  "language_info": {
   "codemirror_mode": {
    "name": "ipython",
    "version": 2
   },
   "file_extension": ".py",
   "mimetype": "text/x-python",
   "name": "python",
   "nbconvert_exporter": "python",
   "pygments_lexer": "ipython2",
   "version": "2.7.15"
  }
 },
 "nbformat": 4,
 "nbformat_minor": 2
}
